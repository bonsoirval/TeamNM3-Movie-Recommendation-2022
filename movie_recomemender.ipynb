{
 "cells": [
  {
   "cell_type": "markdown",
   "id": "06b34c5c",
   "metadata": {
    "colab_type": "text",
    "id": "view-in-github"
   },
   "source": [
    "<a href=\"https://colab.research.google.com/github/endiesworld/2110ACDS_T7_C_Predict/blob/main/2110ACDS_T7_starter_notebook.ipynb\" target=\"_parent\"><img src=\"https://colab.research.google.com/assets/colab-badge.svg\" alt=\"Open In Colab\"/></a>"
   ]
  },
  {
   "cell_type": "markdown",
   "id": "6c7e849a",
   "metadata": {
    "ExecuteTime": {
     "end_time": "2021-06-11T09:24:53.643384Z",
     "start_time": "2021-06-11T09:24:53.622385Z"
    },
    "id": "6c7e849a"
   },
   "source": [
    "# EDSA Movie Recommendation 2022\n",
    "\n",
    "© Explore Data Science Academy\n",
    "\n",
    "---\n",
    "### Honour Code\n",
    "\n",
    "**Team NM 3**, confirm - by submitting this document - that the solutions in this notebook are a result of my own work and that I abide by the [EDSA honour code](https://drive.google.com/file/d/1QDCjGZJ8-FmJE3bZdIQNwnJyQKPhHZBn/view?usp=sharing).\n",
    "\n",
    "Non-compliance with the honour code constitutes a material breach of contract.\n",
    "\n",
    "\n",
    "  "
   ]
  },
  {
   "cell_type": "markdown",
   "id": "BgJDS_T07vuC",
   "metadata": {
    "id": "BgJDS_T07vuC"
   },
   "source": [
    "<h2><center> EDSA Movie Recommendation 2022</h2></center>\n",
    "<figure>\n",
    "<center><img src =\"./assets/movies.png\" width = \"800\" height = '500'/>\n",
    "\n",
    "*Introduction*\n",
    "<p align = \"justify\">Recommender System is a system that seeks to predict or filter preferences according to the user’s choices. Recommender systems are utilized in a variety of areas, and in this project we will use a recommender system to recommend movies for movie lovers.\n",
    "\n",
    "\n",
    "*About the problem*\n",
    "<p align = \"justify\">PUT PROBLEM STATEMENT HERE.\n",
    "\n",
    "*Objective*\n",
    "<p align = \"justify\"> We aim to provide an accurate and robust solution to this problem, by providing personalised recommendations to users of this product, and generating platform affinity for the streaming services which best facilitates their audience's viewing\n",
    "\n",
    "*Process*\n",
    "<p align = \"justify\"> In order to achieve this objective the team will follow the process below:-\n",
    "\n",
    "1. analyse the supplied data, identify potential errors in the data and clean the existing data set;\n",
    "\n",
    "2. determine if additional features can be added to enrich the data set;\n",
    "\n",
    "3. build a model that is capable of predicting how a user will rate a movie;\n",
    "\n",
    "4. evaluate the accuracy of the best machine learning model;\n",
    "\n",
    "5. accurately predicting how a user will rate a movie they have not yet viewed, based on their historical preferences, and\n",
    "\n",
    "6. explain the inner working of the model to a non-technical audience."
   ]
  },
  {
   "cell_type": "markdown",
   "id": "05600c92",
   "metadata": {
    "id": "05600c92"
   },
   "source": [
    "<a id=\"cont\"></a>\n",
    "\n",
    "## Table of Contents\n",
    "\n",
    "<a href=#one>1. Importing Packages</a>\n",
    "\n",
    "<a href=#two>2. Loading Data</a>\n",
    "\n",
    "<a href=#three>3. Exploratory Data Analysis (EDA)</a>\n",
    "\n",
    "<a href=#four>4. Data Engineering</a>\n",
    "\n",
    "<a href=#five>5. Modeling</a>\n",
    "\n",
    "<a href=#six>6. Model Performance</a>\n",
    "\n",
    "<a href=#seven>7. Model Explanations</a>"
   ]
  },
  {
   "cell_type": "markdown",
   "id": "997462e2",
   "metadata": {
    "id": "997462e2"
   },
   "source": [
    " <a id=\"one\"></a>\n",
    "## 1. Importing Packages\n",
    "<a href=#cont>Back to Table of Contents</a>\n",
    "\n",
    "---\n",
    "    \n",
    "| ⚡ Description: Importing Packages ⚡ |\n",
    "| :--------------------------- |\n",
    "| In this section you are required to import, and briefly discuss, the libraries that will be used throughout your analysis and modelling. |\n",
    "\n",
    "---"
   ]
  },
  {
   "cell_type": "code",
   "execution_count": 1,
   "id": "14e96617",
   "metadata": {
    "scrolled": true
   },
   "outputs": [
    {
     "name": "stderr",
     "output_type": "stream",
     "text": [
      "COMET WARNING: As you are running in a Jupyter environment, you will need to call `experiment.end()` when finished to ensure all metrics and code are logged before exiting.\n",
      "COMET INFO: Couldn't find a Git repository in 'C:\\\\Users\\\\alami\\\\Documents\\\\Explore\\\\Athena\\\\Unsupervised Learning\\\\Predict\\\\edsa-movie-recommendation-2022' nor in any parent directory. You can override where Comet is looking for a Git Patch by setting the configuration `COMET_GIT_DIRECTORY`\n",
      "COMET INFO: Experiment is live on comet.ml https://www.comet.com/murtalaua/move-recommendation-system-edsa-2022/479142c433f246828b699d8063bf84d9\n",
      "\n"
     ]
    }
   ],
   "source": [
    "#Importing comet library\n",
    "from comet_ml import Experiment\n",
    "\n",
    "# Creating an experiment on comet with the api key\n",
    "experiment = Experiment(\n",
    "    api_key=\"2G2bIJZt14D56ogdKrPuvmg7P\",\n",
    "    project_name=\"move-recommendation-system-edsa-2022\",\n",
    "    workspace=\"murtalaua\",\n",
    ")"
   ]
  },
  {
   "cell_type": "code",
   "execution_count": 2,
   "id": "475dbe93",
   "metadata": {
    "ExecuteTime": {
     "end_time": "2021-06-23T10:30:53.800892Z",
     "start_time": "2021-06-23T10:30:50.215449Z"
    },
    "id": "475dbe93"
   },
   "outputs": [],
   "source": [
    "# Libraries for importing and loading data\n",
    "import numpy as np\n",
    "import pandas as pd\n",
    "from nltk.tokenize import word_tokenize, TreebankWordTokenizer\n",
    "import scipy as sp # <-- The sister of Numpy, used in our code for numerical efficientcy. \n",
    "import matplotlib.pyplot as plt\n",
    "import seaborn as sns\n",
    "import os\n",
    "from textwrap import wrap\n",
    "\n",
    "# Entity featurization and similarity computation\n",
    "from sklearn.metrics.pairwise import cosine_similarity \n",
    "from sklearn.feature_extraction.text import TfidfVectorizer\n",
    "from surprise import SVD\n",
    "from surprise import Reader, Dataset\n",
    "from surprise.model_selection import GridSearchCV, cross_validate\n",
    "\n",
    "\n",
    "# Libraries used during sorting procedures.\n",
    "import operator # <-- Convienient item retrieval during iteration \n",
    "import heapq # <-- Efficient sorting of large lists\n",
    "from time import time\n",
    "\n",
    "# Setting global constants to ensure notebook results are reproducible\n",
    "\n",
    "RANDOM_STATE = 42\n",
    "\n",
    "\n",
    "import warnings\n",
    "warnings.filterwarnings('ignore')"
   ]
  },
  {
   "cell_type": "markdown",
   "id": "f22a6718",
   "metadata": {
    "id": "f22a6718"
   },
   "source": [
    "<a id=\"two\"></a>\n",
    "## 2. Loading the Data\n",
    "<a class=\"anchor\" id=\"1.1\"></a>\n",
    "<a href=#cont>Back to Table of Contents</a>\n",
    "\n",
    "---\n",
    "    \n",
    "| ⚡ Description: Loading the data ⚡ |\n",
    "| :--------------------------- |\n",
    "| In this section you are required to load the data from the `df_train` file into a DataFrame. |\n",
    "\n",
    "---"
   ]
  },
  {
   "cell_type": "markdown",
   "id": "siWxqSkjCc6d",
   "metadata": {
    "id": "siWxqSkjCc6d"
   },
   "source": [
    "### 2.1 Brief description of the data\n",
    "\n"
   ]
  },
  {
   "cell_type": "code",
   "execution_count": 3,
   "id": "fbbb6c18",
   "metadata": {
    "ExecuteTime": {
     "end_time": "2021-06-28T08:49:35.311495Z",
     "start_time": "2021-06-28T08:49:35.295494Z"
    },
    "colab": {
     "base_uri": "https://localhost:8080/",
     "height": 206
    },
    "id": "fbbb6c18",
    "outputId": "4e1a8735-9ea3-45bd-ce9a-31d0135f5dfc"
   },
   "outputs": [],
   "source": [
    "# load the data\n",
    "train = pd.read_csv('train.csv')\n",
    "test = pd.read_csv('test.csv')\n",
    "genome_scores = pd.read_csv('genome_scores.csv')\n",
    "genome_tags = pd.read_csv('genome_tags.csv')\n",
    "imdb_data = pd.read_csv('imdb_data.csv')\n",
    "links = pd.read_csv('links.csv')\n",
    "movies = pd.read_csv('movies.csv')\n",
    "tags = pd.read_csv('tags.csv')"
   ]
  },
  {
   "cell_type": "code",
   "execution_count": 4,
   "id": "IJ4DkY-NDivs",
   "metadata": {
    "colab": {
     "base_uri": "https://localhost:8080/",
     "height": 206
    },
    "id": "IJ4DkY-NDivs",
    "outputId": "f6a66550-ba46-47d7-dd03-c49cdf4af1f5"
   },
   "outputs": [
    {
     "name": "stdout",
     "output_type": "stream",
     "text": [
      "The Shape of the data is:  (10000038, 4)\n"
     ]
    },
    {
     "data": {
      "text/html": [
       "<div>\n",
       "<style scoped>\n",
       "    .dataframe tbody tr th:only-of-type {\n",
       "        vertical-align: middle;\n",
       "    }\n",
       "\n",
       "    .dataframe tbody tr th {\n",
       "        vertical-align: top;\n",
       "    }\n",
       "\n",
       "    .dataframe thead th {\n",
       "        text-align: right;\n",
       "    }\n",
       "</style>\n",
       "<table border=\"1\" class=\"dataframe\">\n",
       "  <thead>\n",
       "    <tr style=\"text-align: right;\">\n",
       "      <th></th>\n",
       "      <th>userId</th>\n",
       "      <th>movieId</th>\n",
       "      <th>rating</th>\n",
       "      <th>timestamp</th>\n",
       "    </tr>\n",
       "  </thead>\n",
       "  <tbody>\n",
       "    <tr>\n",
       "      <th>0</th>\n",
       "      <td>5163</td>\n",
       "      <td>57669</td>\n",
       "      <td>4.0</td>\n",
       "      <td>1518349992</td>\n",
       "    </tr>\n",
       "    <tr>\n",
       "      <th>1</th>\n",
       "      <td>106343</td>\n",
       "      <td>5</td>\n",
       "      <td>4.5</td>\n",
       "      <td>1206238739</td>\n",
       "    </tr>\n",
       "    <tr>\n",
       "      <th>2</th>\n",
       "      <td>146790</td>\n",
       "      <td>5459</td>\n",
       "      <td>5.0</td>\n",
       "      <td>1076215539</td>\n",
       "    </tr>\n",
       "    <tr>\n",
       "      <th>3</th>\n",
       "      <td>106362</td>\n",
       "      <td>32296</td>\n",
       "      <td>2.0</td>\n",
       "      <td>1423042565</td>\n",
       "    </tr>\n",
       "    <tr>\n",
       "      <th>4</th>\n",
       "      <td>9041</td>\n",
       "      <td>366</td>\n",
       "      <td>3.0</td>\n",
       "      <td>833375837</td>\n",
       "    </tr>\n",
       "  </tbody>\n",
       "</table>\n",
       "</div>"
      ],
      "text/plain": [
       "   userId  movieId  rating   timestamp\n",
       "0    5163    57669     4.0  1518349992\n",
       "1  106343        5     4.5  1206238739\n",
       "2  146790     5459     5.0  1076215539\n",
       "3  106362    32296     2.0  1423042565\n",
       "4    9041      366     3.0   833375837"
      ]
     },
     "execution_count": 4,
     "metadata": {},
     "output_type": "execute_result"
    }
   ],
   "source": [
    "# Preview train dataset\n",
    "print('The Shape of the data is: ', train.shape)\n",
    "train.head()"
   ]
  },
  {
   "cell_type": "code",
   "execution_count": 5,
   "id": "17aad2f9",
   "metadata": {},
   "outputs": [
    {
     "name": "stdout",
     "output_type": "stream",
     "text": [
      "The Shape of the data is:  (5000019, 2)\n"
     ]
    },
    {
     "data": {
      "text/html": [
       "<div>\n",
       "<style scoped>\n",
       "    .dataframe tbody tr th:only-of-type {\n",
       "        vertical-align: middle;\n",
       "    }\n",
       "\n",
       "    .dataframe tbody tr th {\n",
       "        vertical-align: top;\n",
       "    }\n",
       "\n",
       "    .dataframe thead th {\n",
       "        text-align: right;\n",
       "    }\n",
       "</style>\n",
       "<table border=\"1\" class=\"dataframe\">\n",
       "  <thead>\n",
       "    <tr style=\"text-align: right;\">\n",
       "      <th></th>\n",
       "      <th>userId</th>\n",
       "      <th>movieId</th>\n",
       "    </tr>\n",
       "  </thead>\n",
       "  <tbody>\n",
       "    <tr>\n",
       "      <th>0</th>\n",
       "      <td>1</td>\n",
       "      <td>2011</td>\n",
       "    </tr>\n",
       "    <tr>\n",
       "      <th>1</th>\n",
       "      <td>1</td>\n",
       "      <td>4144</td>\n",
       "    </tr>\n",
       "    <tr>\n",
       "      <th>2</th>\n",
       "      <td>1</td>\n",
       "      <td>5767</td>\n",
       "    </tr>\n",
       "    <tr>\n",
       "      <th>3</th>\n",
       "      <td>1</td>\n",
       "      <td>6711</td>\n",
       "    </tr>\n",
       "    <tr>\n",
       "      <th>4</th>\n",
       "      <td>1</td>\n",
       "      <td>7318</td>\n",
       "    </tr>\n",
       "  </tbody>\n",
       "</table>\n",
       "</div>"
      ],
      "text/plain": [
       "   userId  movieId\n",
       "0       1     2011\n",
       "1       1     4144\n",
       "2       1     5767\n",
       "3       1     6711\n",
       "4       1     7318"
      ]
     },
     "execution_count": 5,
     "metadata": {},
     "output_type": "execute_result"
    }
   ],
   "source": [
    "# Preview train dataset\n",
    "print('The Shape of the data is: ', test.shape)\n",
    "test.head()"
   ]
  },
  {
   "cell_type": "code",
   "execution_count": 6,
   "id": "10b1e0e1",
   "metadata": {},
   "outputs": [
    {
     "name": "stdout",
     "output_type": "stream",
     "text": [
      "The Shape of the data is:  (15584448, 3)\n"
     ]
    },
    {
     "data": {
      "text/html": [
       "<div>\n",
       "<style scoped>\n",
       "    .dataframe tbody tr th:only-of-type {\n",
       "        vertical-align: middle;\n",
       "    }\n",
       "\n",
       "    .dataframe tbody tr th {\n",
       "        vertical-align: top;\n",
       "    }\n",
       "\n",
       "    .dataframe thead th {\n",
       "        text-align: right;\n",
       "    }\n",
       "</style>\n",
       "<table border=\"1\" class=\"dataframe\">\n",
       "  <thead>\n",
       "    <tr style=\"text-align: right;\">\n",
       "      <th></th>\n",
       "      <th>movieId</th>\n",
       "      <th>tagId</th>\n",
       "      <th>relevance</th>\n",
       "    </tr>\n",
       "  </thead>\n",
       "  <tbody>\n",
       "    <tr>\n",
       "      <th>0</th>\n",
       "      <td>1</td>\n",
       "      <td>1</td>\n",
       "      <td>0.02875</td>\n",
       "    </tr>\n",
       "    <tr>\n",
       "      <th>1</th>\n",
       "      <td>1</td>\n",
       "      <td>2</td>\n",
       "      <td>0.02375</td>\n",
       "    </tr>\n",
       "    <tr>\n",
       "      <th>2</th>\n",
       "      <td>1</td>\n",
       "      <td>3</td>\n",
       "      <td>0.06250</td>\n",
       "    </tr>\n",
       "    <tr>\n",
       "      <th>3</th>\n",
       "      <td>1</td>\n",
       "      <td>4</td>\n",
       "      <td>0.07575</td>\n",
       "    </tr>\n",
       "    <tr>\n",
       "      <th>4</th>\n",
       "      <td>1</td>\n",
       "      <td>5</td>\n",
       "      <td>0.14075</td>\n",
       "    </tr>\n",
       "  </tbody>\n",
       "</table>\n",
       "</div>"
      ],
      "text/plain": [
       "   movieId  tagId  relevance\n",
       "0        1      1    0.02875\n",
       "1        1      2    0.02375\n",
       "2        1      3    0.06250\n",
       "3        1      4    0.07575\n",
       "4        1      5    0.14075"
      ]
     },
     "execution_count": 6,
     "metadata": {},
     "output_type": "execute_result"
    }
   ],
   "source": [
    "# Preview genome_scores dataset\n",
    "print('The Shape of the data is: ', genome_scores.shape)\n",
    "genome_scores.head()"
   ]
  },
  {
   "cell_type": "code",
   "execution_count": 7,
   "id": "9c5385b6",
   "metadata": {},
   "outputs": [
    {
     "name": "stdout",
     "output_type": "stream",
     "text": [
      "The Shape of the data is:  (1128, 2)\n"
     ]
    },
    {
     "data": {
      "text/html": [
       "<div>\n",
       "<style scoped>\n",
       "    .dataframe tbody tr th:only-of-type {\n",
       "        vertical-align: middle;\n",
       "    }\n",
       "\n",
       "    .dataframe tbody tr th {\n",
       "        vertical-align: top;\n",
       "    }\n",
       "\n",
       "    .dataframe thead th {\n",
       "        text-align: right;\n",
       "    }\n",
       "</style>\n",
       "<table border=\"1\" class=\"dataframe\">\n",
       "  <thead>\n",
       "    <tr style=\"text-align: right;\">\n",
       "      <th></th>\n",
       "      <th>tagId</th>\n",
       "      <th>tag</th>\n",
       "    </tr>\n",
       "  </thead>\n",
       "  <tbody>\n",
       "    <tr>\n",
       "      <th>0</th>\n",
       "      <td>1</td>\n",
       "      <td>007</td>\n",
       "    </tr>\n",
       "    <tr>\n",
       "      <th>1</th>\n",
       "      <td>2</td>\n",
       "      <td>007 (series)</td>\n",
       "    </tr>\n",
       "    <tr>\n",
       "      <th>2</th>\n",
       "      <td>3</td>\n",
       "      <td>18th century</td>\n",
       "    </tr>\n",
       "    <tr>\n",
       "      <th>3</th>\n",
       "      <td>4</td>\n",
       "      <td>1920s</td>\n",
       "    </tr>\n",
       "    <tr>\n",
       "      <th>4</th>\n",
       "      <td>5</td>\n",
       "      <td>1930s</td>\n",
       "    </tr>\n",
       "  </tbody>\n",
       "</table>\n",
       "</div>"
      ],
      "text/plain": [
       "   tagId           tag\n",
       "0      1           007\n",
       "1      2  007 (series)\n",
       "2      3  18th century\n",
       "3      4         1920s\n",
       "4      5         1930s"
      ]
     },
     "execution_count": 7,
     "metadata": {},
     "output_type": "execute_result"
    }
   ],
   "source": [
    "# Preview genome_scores dataset\n",
    "print('The Shape of the data is: ', genome_tags.shape)\n",
    "genome_tags.head()"
   ]
  },
  {
   "cell_type": "code",
   "execution_count": 8,
   "id": "c421f825",
   "metadata": {},
   "outputs": [
    {
     "name": "stdout",
     "output_type": "stream",
     "text": [
      "The Shape of the data is:  (27278, 6)\n"
     ]
    },
    {
     "data": {
      "text/html": [
       "<div>\n",
       "<style scoped>\n",
       "    .dataframe tbody tr th:only-of-type {\n",
       "        vertical-align: middle;\n",
       "    }\n",
       "\n",
       "    .dataframe tbody tr th {\n",
       "        vertical-align: top;\n",
       "    }\n",
       "\n",
       "    .dataframe thead th {\n",
       "        text-align: right;\n",
       "    }\n",
       "</style>\n",
       "<table border=\"1\" class=\"dataframe\">\n",
       "  <thead>\n",
       "    <tr style=\"text-align: right;\">\n",
       "      <th></th>\n",
       "      <th>movieId</th>\n",
       "      <th>title_cast</th>\n",
       "      <th>director</th>\n",
       "      <th>runtime</th>\n",
       "      <th>budget</th>\n",
       "      <th>plot_keywords</th>\n",
       "    </tr>\n",
       "  </thead>\n",
       "  <tbody>\n",
       "    <tr>\n",
       "      <th>0</th>\n",
       "      <td>1</td>\n",
       "      <td>Tom Hanks|Tim Allen|Don Rickles|Jim Varney|Wal...</td>\n",
       "      <td>John Lasseter</td>\n",
       "      <td>81.0</td>\n",
       "      <td>$30,000,000</td>\n",
       "      <td>toy|rivalry|cowboy|cgi animation</td>\n",
       "    </tr>\n",
       "    <tr>\n",
       "      <th>1</th>\n",
       "      <td>2</td>\n",
       "      <td>Robin Williams|Jonathan Hyde|Kirsten Dunst|Bra...</td>\n",
       "      <td>Jonathan Hensleigh</td>\n",
       "      <td>104.0</td>\n",
       "      <td>$65,000,000</td>\n",
       "      <td>board game|adventurer|fight|game</td>\n",
       "    </tr>\n",
       "    <tr>\n",
       "      <th>2</th>\n",
       "      <td>3</td>\n",
       "      <td>Walter Matthau|Jack Lemmon|Sophia Loren|Ann-Ma...</td>\n",
       "      <td>Mark Steven Johnson</td>\n",
       "      <td>101.0</td>\n",
       "      <td>$25,000,000</td>\n",
       "      <td>boat|lake|neighbor|rivalry</td>\n",
       "    </tr>\n",
       "    <tr>\n",
       "      <th>3</th>\n",
       "      <td>4</td>\n",
       "      <td>Whitney Houston|Angela Bassett|Loretta Devine|...</td>\n",
       "      <td>Terry McMillan</td>\n",
       "      <td>124.0</td>\n",
       "      <td>$16,000,000</td>\n",
       "      <td>black american|husband wife relationship|betra...</td>\n",
       "    </tr>\n",
       "    <tr>\n",
       "      <th>4</th>\n",
       "      <td>5</td>\n",
       "      <td>Steve Martin|Diane Keaton|Martin Short|Kimberl...</td>\n",
       "      <td>Albert Hackett</td>\n",
       "      <td>106.0</td>\n",
       "      <td>$30,000,000</td>\n",
       "      <td>fatherhood|doberman|dog|mansion</td>\n",
       "    </tr>\n",
       "  </tbody>\n",
       "</table>\n",
       "</div>"
      ],
      "text/plain": [
       "   movieId                                         title_cast  \\\n",
       "0        1  Tom Hanks|Tim Allen|Don Rickles|Jim Varney|Wal...   \n",
       "1        2  Robin Williams|Jonathan Hyde|Kirsten Dunst|Bra...   \n",
       "2        3  Walter Matthau|Jack Lemmon|Sophia Loren|Ann-Ma...   \n",
       "3        4  Whitney Houston|Angela Bassett|Loretta Devine|...   \n",
       "4        5  Steve Martin|Diane Keaton|Martin Short|Kimberl...   \n",
       "\n",
       "              director  runtime       budget  \\\n",
       "0        John Lasseter     81.0  $30,000,000   \n",
       "1   Jonathan Hensleigh    104.0  $65,000,000   \n",
       "2  Mark Steven Johnson    101.0  $25,000,000   \n",
       "3       Terry McMillan    124.0  $16,000,000   \n",
       "4       Albert Hackett    106.0  $30,000,000   \n",
       "\n",
       "                                       plot_keywords  \n",
       "0                   toy|rivalry|cowboy|cgi animation  \n",
       "1                   board game|adventurer|fight|game  \n",
       "2                         boat|lake|neighbor|rivalry  \n",
       "3  black american|husband wife relationship|betra...  \n",
       "4                    fatherhood|doberman|dog|mansion  "
      ]
     },
     "execution_count": 8,
     "metadata": {},
     "output_type": "execute_result"
    }
   ],
   "source": [
    "# Preview imdb_data dataset\n",
    "print('The Shape of the data is: ', imdb_data.shape)\n",
    "imdb_data.head()"
   ]
  },
  {
   "cell_type": "code",
   "execution_count": 9,
   "id": "d816be6c",
   "metadata": {},
   "outputs": [
    {
     "name": "stdout",
     "output_type": "stream",
     "text": [
      "The Shape of the data is:  (62423, 3)\n"
     ]
    },
    {
     "data": {
      "text/html": [
       "<div>\n",
       "<style scoped>\n",
       "    .dataframe tbody tr th:only-of-type {\n",
       "        vertical-align: middle;\n",
       "    }\n",
       "\n",
       "    .dataframe tbody tr th {\n",
       "        vertical-align: top;\n",
       "    }\n",
       "\n",
       "    .dataframe thead th {\n",
       "        text-align: right;\n",
       "    }\n",
       "</style>\n",
       "<table border=\"1\" class=\"dataframe\">\n",
       "  <thead>\n",
       "    <tr style=\"text-align: right;\">\n",
       "      <th></th>\n",
       "      <th>movieId</th>\n",
       "      <th>imdbId</th>\n",
       "      <th>tmdbId</th>\n",
       "    </tr>\n",
       "  </thead>\n",
       "  <tbody>\n",
       "    <tr>\n",
       "      <th>0</th>\n",
       "      <td>1</td>\n",
       "      <td>114709</td>\n",
       "      <td>862.0</td>\n",
       "    </tr>\n",
       "    <tr>\n",
       "      <th>1</th>\n",
       "      <td>2</td>\n",
       "      <td>113497</td>\n",
       "      <td>8844.0</td>\n",
       "    </tr>\n",
       "    <tr>\n",
       "      <th>2</th>\n",
       "      <td>3</td>\n",
       "      <td>113228</td>\n",
       "      <td>15602.0</td>\n",
       "    </tr>\n",
       "    <tr>\n",
       "      <th>3</th>\n",
       "      <td>4</td>\n",
       "      <td>114885</td>\n",
       "      <td>31357.0</td>\n",
       "    </tr>\n",
       "    <tr>\n",
       "      <th>4</th>\n",
       "      <td>5</td>\n",
       "      <td>113041</td>\n",
       "      <td>11862.0</td>\n",
       "    </tr>\n",
       "  </tbody>\n",
       "</table>\n",
       "</div>"
      ],
      "text/plain": [
       "   movieId  imdbId   tmdbId\n",
       "0        1  114709    862.0\n",
       "1        2  113497   8844.0\n",
       "2        3  113228  15602.0\n",
       "3        4  114885  31357.0\n",
       "4        5  113041  11862.0"
      ]
     },
     "execution_count": 9,
     "metadata": {},
     "output_type": "execute_result"
    }
   ],
   "source": [
    "# Preview links dataset\n",
    "print('The Shape of the data is: ', links.shape)\n",
    "links.head()"
   ]
  },
  {
   "cell_type": "code",
   "execution_count": 10,
   "id": "bf066e16",
   "metadata": {},
   "outputs": [
    {
     "name": "stdout",
     "output_type": "stream",
     "text": [
      "The Shape of the data is:  (62423, 3)\n"
     ]
    },
    {
     "data": {
      "text/html": [
       "<div>\n",
       "<style scoped>\n",
       "    .dataframe tbody tr th:only-of-type {\n",
       "        vertical-align: middle;\n",
       "    }\n",
       "\n",
       "    .dataframe tbody tr th {\n",
       "        vertical-align: top;\n",
       "    }\n",
       "\n",
       "    .dataframe thead th {\n",
       "        text-align: right;\n",
       "    }\n",
       "</style>\n",
       "<table border=\"1\" class=\"dataframe\">\n",
       "  <thead>\n",
       "    <tr style=\"text-align: right;\">\n",
       "      <th></th>\n",
       "      <th>movieId</th>\n",
       "      <th>title</th>\n",
       "      <th>genres</th>\n",
       "    </tr>\n",
       "  </thead>\n",
       "  <tbody>\n",
       "    <tr>\n",
       "      <th>0</th>\n",
       "      <td>1</td>\n",
       "      <td>Toy Story (1995)</td>\n",
       "      <td>Adventure|Animation|Children|Comedy|Fantasy</td>\n",
       "    </tr>\n",
       "    <tr>\n",
       "      <th>1</th>\n",
       "      <td>2</td>\n",
       "      <td>Jumanji (1995)</td>\n",
       "      <td>Adventure|Children|Fantasy</td>\n",
       "    </tr>\n",
       "    <tr>\n",
       "      <th>2</th>\n",
       "      <td>3</td>\n",
       "      <td>Grumpier Old Men (1995)</td>\n",
       "      <td>Comedy|Romance</td>\n",
       "    </tr>\n",
       "    <tr>\n",
       "      <th>3</th>\n",
       "      <td>4</td>\n",
       "      <td>Waiting to Exhale (1995)</td>\n",
       "      <td>Comedy|Drama|Romance</td>\n",
       "    </tr>\n",
       "    <tr>\n",
       "      <th>4</th>\n",
       "      <td>5</td>\n",
       "      <td>Father of the Bride Part II (1995)</td>\n",
       "      <td>Comedy</td>\n",
       "    </tr>\n",
       "  </tbody>\n",
       "</table>\n",
       "</div>"
      ],
      "text/plain": [
       "   movieId                               title  \\\n",
       "0        1                    Toy Story (1995)   \n",
       "1        2                      Jumanji (1995)   \n",
       "2        3             Grumpier Old Men (1995)   \n",
       "3        4            Waiting to Exhale (1995)   \n",
       "4        5  Father of the Bride Part II (1995)   \n",
       "\n",
       "                                        genres  \n",
       "0  Adventure|Animation|Children|Comedy|Fantasy  \n",
       "1                   Adventure|Children|Fantasy  \n",
       "2                               Comedy|Romance  \n",
       "3                         Comedy|Drama|Romance  \n",
       "4                                       Comedy  "
      ]
     },
     "execution_count": 10,
     "metadata": {},
     "output_type": "execute_result"
    }
   ],
   "source": [
    "# Preview movies dataset\n",
    "print('The Shape of the data is: ', movies.shape)\n",
    "movies.head()"
   ]
  },
  {
   "cell_type": "code",
   "execution_count": 11,
   "id": "dc921e59",
   "metadata": {},
   "outputs": [
    {
     "name": "stdout",
     "output_type": "stream",
     "text": [
      "The Shape of the data is:  (1093360, 4)\n"
     ]
    },
    {
     "data": {
      "text/html": [
       "<div>\n",
       "<style scoped>\n",
       "    .dataframe tbody tr th:only-of-type {\n",
       "        vertical-align: middle;\n",
       "    }\n",
       "\n",
       "    .dataframe tbody tr th {\n",
       "        vertical-align: top;\n",
       "    }\n",
       "\n",
       "    .dataframe thead th {\n",
       "        text-align: right;\n",
       "    }\n",
       "</style>\n",
       "<table border=\"1\" class=\"dataframe\">\n",
       "  <thead>\n",
       "    <tr style=\"text-align: right;\">\n",
       "      <th></th>\n",
       "      <th>userId</th>\n",
       "      <th>movieId</th>\n",
       "      <th>tag</th>\n",
       "      <th>timestamp</th>\n",
       "    </tr>\n",
       "  </thead>\n",
       "  <tbody>\n",
       "    <tr>\n",
       "      <th>0</th>\n",
       "      <td>3</td>\n",
       "      <td>260</td>\n",
       "      <td>classic</td>\n",
       "      <td>1439472355</td>\n",
       "    </tr>\n",
       "    <tr>\n",
       "      <th>1</th>\n",
       "      <td>3</td>\n",
       "      <td>260</td>\n",
       "      <td>sci-fi</td>\n",
       "      <td>1439472256</td>\n",
       "    </tr>\n",
       "    <tr>\n",
       "      <th>2</th>\n",
       "      <td>4</td>\n",
       "      <td>1732</td>\n",
       "      <td>dark comedy</td>\n",
       "      <td>1573943598</td>\n",
       "    </tr>\n",
       "    <tr>\n",
       "      <th>3</th>\n",
       "      <td>4</td>\n",
       "      <td>1732</td>\n",
       "      <td>great dialogue</td>\n",
       "      <td>1573943604</td>\n",
       "    </tr>\n",
       "    <tr>\n",
       "      <th>4</th>\n",
       "      <td>4</td>\n",
       "      <td>7569</td>\n",
       "      <td>so bad it's good</td>\n",
       "      <td>1573943455</td>\n",
       "    </tr>\n",
       "  </tbody>\n",
       "</table>\n",
       "</div>"
      ],
      "text/plain": [
       "   userId  movieId               tag   timestamp\n",
       "0       3      260           classic  1439472355\n",
       "1       3      260            sci-fi  1439472256\n",
       "2       4     1732       dark comedy  1573943598\n",
       "3       4     1732    great dialogue  1573943604\n",
       "4       4     7569  so bad it's good  1573943455"
      ]
     },
     "execution_count": 11,
     "metadata": {},
     "output_type": "execute_result"
    }
   ],
   "source": [
    "# Preview tags dataset\n",
    "print('The Shape of the data is: ', tags.shape)\n",
    "tags.head()"
   ]
  },
  {
   "cell_type": "markdown",
   "id": "j5bRGQAXECgt",
   "metadata": {
    "id": "j5bRGQAXECgt"
   },
   "source": [
    "#### Dataset summary\n"
   ]
  },
  {
   "cell_type": "markdown",
   "id": "81132ab3",
   "metadata": {
    "id": "81132ab3"
   },
   "source": [
    "<a id=\"three\"></a>\n",
    "## 3. Exploratory Data Analysis (EDA)\n",
    "<a class=\"anchor\" id=\"1.1\"></a>\n",
    "<a href=#cont>Back to Table of Contents</a>\n",
    "\n",
    "---\n",
    "    \n",
    "| ⚡ Description: Exploratory data analysis ⚡ |\n",
    "| :--------------------------- |\n",
    "\n",
    "---\n"
   ]
  },
  {
   "cell_type": "markdown",
   "id": "98c044ea",
   "metadata": {
    "id": "98c044ea"
   },
   "source": [
    "### 3.1 Exploratory Data Analysis\n",
    "*What is Exploratory data analysis?*\n",
    "    Exploratory data analysis (EDA) is the process of analysing and investigating data sets and summarizing their main characteristics, often employing both non-graphical and graphical methods. \n",
    "\n",
    "*Why is conducting EDA important?*\n",
    "    It aids in determining how best to manipulate data to get the required answers, expose trends, patterns, and relationships that are not readily apparent i.e. get insights into the dataset.\n",
    "\n",
    "*How is EDA conducted?*\n",
    "    EDA can be conducted in the following ways:\n",
    "- **Univariate**:- \\\n",
    "    i. **non-graphical**:- This is simplest form of data analysis, where the data being analyzed consists of just one variable. Since it’s a single variable, it doesn’t deal with causes or relationships.\\\n",
    "    ii. **graphical**:- Non-graphical methods don’t provide a full picture of the data. Graphical methods are therefore required. It involves visual exploratory analysis of the data.\n",
    "- Multivariate:-  \\\n",
    "    i. **non-graphical**:- Multivariate non-graphical EDA techniques generally show the relationship between two or more variables of the data through cross-tabulation or statistics. \\\n",
    "    ii. **graphical**:- Multivariate data uses graphics to display relationships between two or more sets of data. The most used graphic is a grouped bar plot or bar chart with each group representing one level of one of the variables and each bar within a group representing the levels of the other variable.\n",
    "    \n"
   ]
  },
  {
   "cell_type": "markdown",
   "id": "1e773ee3",
   "metadata": {
    "id": "1e773ee3"
   },
   "source": [
    "#### 3.1.1 Movies produced per Year\n",
    "In this section, we are interested in knowing the years with the highest numbers of movies produced. This information will enable us visually explore how the movie industry has performed over the years."
   ]
  },
  {
   "cell_type": "code",
   "execution_count": 12,
   "id": "ecc0efdb",
   "metadata": {},
   "outputs": [
    {
     "data": {
      "text/html": [
       "<div>\n",
       "<style scoped>\n",
       "    .dataframe tbody tr th:only-of-type {\n",
       "        vertical-align: middle;\n",
       "    }\n",
       "\n",
       "    .dataframe tbody tr th {\n",
       "        vertical-align: top;\n",
       "    }\n",
       "\n",
       "    .dataframe thead th {\n",
       "        text-align: right;\n",
       "    }\n",
       "</style>\n",
       "<table border=\"1\" class=\"dataframe\">\n",
       "  <thead>\n",
       "    <tr style=\"text-align: right;\">\n",
       "      <th></th>\n",
       "      <th>movieId</th>\n",
       "      <th>title</th>\n",
       "      <th>genres</th>\n",
       "      <th>year</th>\n",
       "    </tr>\n",
       "  </thead>\n",
       "  <tbody>\n",
       "    <tr>\n",
       "      <th>0</th>\n",
       "      <td>1</td>\n",
       "      <td>Toy Story  1995</td>\n",
       "      <td>Adventure Animation Children Comedy Fantasy</td>\n",
       "      <td>1995</td>\n",
       "    </tr>\n",
       "    <tr>\n",
       "      <th>1</th>\n",
       "      <td>2</td>\n",
       "      <td>Jumanji  1995</td>\n",
       "      <td>Adventure Children Fantasy</td>\n",
       "      <td>1995</td>\n",
       "    </tr>\n",
       "    <tr>\n",
       "      <th>2</th>\n",
       "      <td>3</td>\n",
       "      <td>Grumpier Old Men  1995</td>\n",
       "      <td>Comedy Romance</td>\n",
       "      <td>1995</td>\n",
       "    </tr>\n",
       "    <tr>\n",
       "      <th>3</th>\n",
       "      <td>4</td>\n",
       "      <td>Waiting to Exhale  1995</td>\n",
       "      <td>Comedy Drama Romance</td>\n",
       "      <td>1995</td>\n",
       "    </tr>\n",
       "    <tr>\n",
       "      <th>4</th>\n",
       "      <td>5</td>\n",
       "      <td>Father of the Bride Part II  1995</td>\n",
       "      <td>Comedy</td>\n",
       "      <td>1995</td>\n",
       "    </tr>\n",
       "  </tbody>\n",
       "</table>\n",
       "</div>"
      ],
      "text/plain": [
       "   movieId                               title  \\\n",
       "0        1                    Toy Story  1995    \n",
       "1        2                      Jumanji  1995    \n",
       "2        3             Grumpier Old Men  1995    \n",
       "3        4            Waiting to Exhale  1995    \n",
       "4        5  Father of the Bride Part II  1995    \n",
       "\n",
       "                                        genres  year  \n",
       "0  Adventure Animation Children Comedy Fantasy  1995  \n",
       "1                   Adventure Children Fantasy  1995  \n",
       "2                               Comedy Romance  1995  \n",
       "3                         Comedy Drama Romance  1995  \n",
       "4                                       Comedy  1995  "
      ]
     },
     "execution_count": 12,
     "metadata": {},
     "output_type": "execute_result"
    }
   ],
   "source": [
    "# Make a copy of movie table\n",
    "movies_table = movies.copy()\n",
    "\n",
    "# Remove delimiters from interested columns\n",
    "movies_table[\"genres\"] = movies_table[\"genres\"].str.replace('|', ' ', regex=True)\n",
    "movies_table[\"title\"] = movies_table[\"title\"].str.replace('(', ' ', regex=True)\n",
    "movies_table[\"title\"] = movies_table[\"title\"].str.replace(')', ' ', regex=True)\n",
    "movies_table[\"genres\"] = movies_table[\"genres\"].str.replace('(', ' ', regex=True)\n",
    "movies_table[\"genres\"] = movies_table[\"genres\"].str.replace(')', ' ', regex=True)\n",
    "# Create a movie year column\n",
    "movies_table[\"year\"] = movies_table[\"title\"].str.replace(r'[a-zA-Z]', '', regex=True)\n",
    "movies_table[\"year\"] = movies_table[\"year\"].str.replace(r' ', '', regex=True)\n",
    "movies_table.head()"
   ]
  },
  {
   "cell_type": "code",
   "execution_count": 13,
   "id": "f3e3104a",
   "metadata": {},
   "outputs": [
    {
     "data": {
      "image/png": "[encoded data removed]",
      "text/plain": [
       "<Figure size 1440x504 with 1 Axes>"
      ]
     },
     "metadata": {
      "needs_background": "light"
     },
     "output_type": "display_data"
    }
   ],
   "source": [
    "# Visualise the first twenty years with the highest numbers of movies produced\n",
    "movies_table[\"year\"] = movies_table[\"year\"].astype('str')\n",
    "movies_year_count = movies_table[\"year\"].value_counts()\n",
    "fig, ax = plt.subplots( figsize=(20,7))\n",
    "# p = sns.barplot(x=movies_year_count.index[:20], y=movies_year_count.values[:20])\n",
    "ax.bar(movies_year_count.index[:20], movies_year_count.values[:20],  facecolor='r', alpha=0.65)\n",
    "ax.set_xlabel(\"Years of Production\", fontsize = 15)\n",
    "ax.set_ylabel(\"Numbers of Movies Produced\", fontsize = 15)\n",
    "ax.set_title(\"First Twent Years with the Highest Numbers of Movies produced\", fontsize = 20)\n",
    "plt.show()"
   ]
  },
  {
   "cell_type": "markdown",
   "id": "3c35df49",
   "metadata": {},
   "source": [
    "#### 3.1.2 Movies Genres\n",
    "\n",
    "For this stage, we are interested in knowing the genres that appears most in movies. This information will enable us understand the genres of movies produced most for the period the data was captured."
   ]
  },
  {
   "cell_type": "code",
   "execution_count": 14,
   "id": "b44a96bb",
   "metadata": {},
   "outputs": [],
   "source": [
    "def tokenizer(data, col):\n",
    "    \"\"\"\n",
    "        This function takes in a dataframe and a col, creates a new column to store the tokenized words\n",
    "        in the inputed column, and returns a new dataframe.\n",
    "    \"\"\"\n",
    "    df = data.copy()\n",
    "    tokeniser = TreebankWordTokenizer()\n",
    "    df['genre_tok'] = df[col].apply(tokeniser.tokenize)\n",
    "    return df  "
   ]
  },
  {
   "cell_type": "code",
   "execution_count": 15,
   "id": "b2cf2a84",
   "metadata": {},
   "outputs": [
    {
     "data": {
      "text/html": [
       "<div>\n",
       "<style scoped>\n",
       "    .dataframe tbody tr th:only-of-type {\n",
       "        vertical-align: middle;\n",
       "    }\n",
       "\n",
       "    .dataframe tbody tr th {\n",
       "        vertical-align: top;\n",
       "    }\n",
       "\n",
       "    .dataframe thead th {\n",
       "        text-align: right;\n",
       "    }\n",
       "</style>\n",
       "<table border=\"1\" class=\"dataframe\">\n",
       "  <thead>\n",
       "    <tr style=\"text-align: right;\">\n",
       "      <th></th>\n",
       "      <th>movieId</th>\n",
       "      <th>title</th>\n",
       "      <th>genres</th>\n",
       "      <th>year</th>\n",
       "      <th>genre_tok</th>\n",
       "    </tr>\n",
       "  </thead>\n",
       "  <tbody>\n",
       "    <tr>\n",
       "      <th>0</th>\n",
       "      <td>1</td>\n",
       "      <td>Toy Story  1995</td>\n",
       "      <td>Adventure Animation Children Comedy Fantasy</td>\n",
       "      <td>1995</td>\n",
       "      <td>[Adventure, Animation, Children, Comedy, Fantasy]</td>\n",
       "    </tr>\n",
       "    <tr>\n",
       "      <th>1</th>\n",
       "      <td>2</td>\n",
       "      <td>Jumanji  1995</td>\n",
       "      <td>Adventure Children Fantasy</td>\n",
       "      <td>1995</td>\n",
       "      <td>[Adventure, Children, Fantasy]</td>\n",
       "    </tr>\n",
       "    <tr>\n",
       "      <th>2</th>\n",
       "      <td>3</td>\n",
       "      <td>Grumpier Old Men  1995</td>\n",
       "      <td>Comedy Romance</td>\n",
       "      <td>1995</td>\n",
       "      <td>[Comedy, Romance]</td>\n",
       "    </tr>\n",
       "    <tr>\n",
       "      <th>3</th>\n",
       "      <td>4</td>\n",
       "      <td>Waiting to Exhale  1995</td>\n",
       "      <td>Comedy Drama Romance</td>\n",
       "      <td>1995</td>\n",
       "      <td>[Comedy, Drama, Romance]</td>\n",
       "    </tr>\n",
       "    <tr>\n",
       "      <th>4</th>\n",
       "      <td>5</td>\n",
       "      <td>Father of the Bride Part II  1995</td>\n",
       "      <td>Comedy</td>\n",
       "      <td>1995</td>\n",
       "      <td>[Comedy]</td>\n",
       "    </tr>\n",
       "  </tbody>\n",
       "</table>\n",
       "</div>"
      ],
      "text/plain": [
       "   movieId                               title  \\\n",
       "0        1                    Toy Story  1995    \n",
       "1        2                      Jumanji  1995    \n",
       "2        3             Grumpier Old Men  1995    \n",
       "3        4            Waiting to Exhale  1995    \n",
       "4        5  Father of the Bride Part II  1995    \n",
       "\n",
       "                                        genres  year  \\\n",
       "0  Adventure Animation Children Comedy Fantasy  1995   \n",
       "1                   Adventure Children Fantasy  1995   \n",
       "2                               Comedy Romance  1995   \n",
       "3                         Comedy Drama Romance  1995   \n",
       "4                                       Comedy  1995   \n",
       "\n",
       "                                           genre_tok  \n",
       "0  [Adventure, Animation, Children, Comedy, Fantasy]  \n",
       "1                     [Adventure, Children, Fantasy]  \n",
       "2                                  [Comedy, Romance]  \n",
       "3                           [Comedy, Drama, Romance]  \n",
       "4                                           [Comedy]  "
      ]
     },
     "execution_count": 15,
     "metadata": {},
     "output_type": "execute_result"
    }
   ],
   "source": [
    "# Tokenized genre column\n",
    "movies_table = tokenizer(movies_table, 'genres')\n",
    "movies_table.head()"
   ]
  },
  {
   "cell_type": "code",
   "execution_count": 16,
   "id": "111f3341",
   "metadata": {},
   "outputs": [
    {
     "data": {
      "image/png": "[encoded data removed]",
      "text/plain": [
       "<Figure size 1440x504 with 1 Axes>"
      ]
     },
     "metadata": {
      "needs_background": "light"
     },
     "output_type": "display_data"
    }
   ],
   "source": [
    "# Collect the tokenized genre in a list form\n",
    "genres = movies_table['genre_tok'].values.tolist()\n",
    "all_genres = []\n",
    "\n",
    "# Merge the genre values\n",
    "for index, genre in enumerate(genres):\n",
    "    all_genres.extend(genre)\n",
    "\n",
    "genre_df = pd.DataFrame({\n",
    "    \"genre\":all_genres\n",
    "})\n",
    "\n",
    "genre_df = genre_df[genre_df['genre'].isin(['no', 'listed', 'genres', 'IMAX']) == False]\n",
    "\n",
    "# Visualise the first twenty years with the highest numbers of movies produced\n",
    "genre_count = genre_df[\"genre\"].value_counts()\n",
    "fig, ax = plt.subplots( figsize=(20,7))\n",
    "ax.bar(genre_count.index, genre_count.values,  facecolor='r', alpha=0.65)\n",
    "ax.set_xlabel(\"Genres\", fontsize = 15)\n",
    "ax.set_ylabel(\"Numbers of Movies\", fontsize = 15)\n",
    "ax.set_title(\"Genres and Numbers of Movies\", fontsize = 20)\n",
    "plt.show()"
   ]
  },
  {
   "cell_type": "markdown",
   "id": "e71e0841",
   "metadata": {},
   "source": [
    "#### 3.1.3 Top Rated Movies\n",
    "\n",
    "For this section, we want to know the movies that have has a rating of 4 and above. We have considered less than 4 to be average rating."
   ]
  },
  {
   "cell_type": "code",
   "execution_count": 17,
   "id": "7238ebce",
   "metadata": {},
   "outputs": [
    {
     "data": {
      "image/png": "[encoded data removed]",
      "text/plain": [
       "<Figure size 2160x720 with 1 Axes>"
      ]
     },
     "metadata": {
      "needs_background": "light"
     },
     "output_type": "display_data"
    }
   ],
   "source": [
    "train_table = train.copy()\n",
    "train_table.drop(columns='timestamp', inplace=True)\n",
    "ratings = train_table[['movieId','rating']]\n",
    "ratings = ratings[ratings['rating'] > 3.9]\n",
    "ratings = ratings.merge(movies, on = 'movieId', how= 'left')\n",
    "\n",
    "# def wrapper(x):\n",
    "#     text = [ '\\n'.join(wrap(l, 20)) for l in x]\n",
    "#     return text\n",
    "\n",
    "# ratings['title'] = ratings['title'].apply(wrapper)\n",
    "movies_ratings = ratings['title'].value_counts()\n",
    "\n",
    "labels = [ '\\n'.join(wrap(l, 30)) for l in movies_ratings.index[:20]]\n",
    "\n",
    "\n",
    "\n",
    "fig, ax = plt.subplots( figsize=(30,10))\n",
    "\n",
    "ax.bar(labels, movies_ratings.values[:20],  color='r', alpha=0.65, width = 0.8)\n",
    "ax.set_xlabel(\"Movie Title\", fontsize = 20)\n",
    "ax.set_ylabel(\"Numbers of Ratings\", fontsize = 20)\n",
    "ax.set_title(\"Top Twenty Rated Movies\", fontsize = 30)\n",
    "plt.xticks(rotation=90, fontsize= 20)\n",
    "plt.show()"
   ]
  },
  {
   "cell_type": "markdown",
   "id": "f29d86fb",
   "metadata": {},
   "source": [
    "#### 3.1.4 Top Movie Viewers\n",
    "For this stage, we want to know the userIds that views the most of movies. This information Is useful in identifying top customers and their movie preference."
   ]
  },
  {
   "cell_type": "code",
   "execution_count": 18,
   "id": "03271f52",
   "metadata": {},
   "outputs": [
    {
     "data": {
      "image/png": "[encoded data removed]",
      "text/plain": [
       "<Figure size 2160x720 with 1 Axes>"
      ]
     },
     "metadata": {
      "needs_background": "light"
     },
     "output_type": "display_data"
    }
   ],
   "source": [
    "# Top movie viewers\n",
    "train_table['userId'] = train_table['userId'].astype('str')\n",
    "viewers = train_table['userId'].value_counts()\n",
    "fig, ax = plt.subplots( figsize=(30,10))\n",
    "\n",
    "ax.bar(viewers.index[:20], viewers.values[:20],  color='r', alpha=0.65, width = 0.8)\n",
    "ax.set_xlabel(\"UserIds\", fontsize = 20)\n",
    "ax.set_ylabel(\"Numbers of Movies\", fontsize = 20)\n",
    "ax.set_title(\"Top Twenty Movie Viewers\", fontsize = 30)\n",
    "plt.xticks(rotation=90, fontsize= 20)\n",
    "plt.yticks( fontsize= 20)\n",
    "plt.show()"
   ]
  },
  {
   "cell_type": "markdown",
   "id": "nQgDlx-7c94s",
   "metadata": {
    "id": "nQgDlx-7c94s"
   },
   "source": [
    "### 3.2 Summarry of EDA"
   ]
  },
  {
   "cell_type": "markdown",
   "id": "CRGApgCvgUbM",
   "metadata": {
    "id": "CRGApgCvgUbM"
   },
   "source": [
    "**Movies per Year**\n",
    "Over 1700 movies were produced in the year 2015, which is the year with the highest numbers of movies produced, followed by the year 2016 and 2017, which both have over 1500 movies produced.\n",
    "\n",
    "**Movie Genres**\n",
    "\n",
    "The top three movie genres are:\n",
    "- Drama\n",
    "- Comedy\n",
    "- Thriller\n",
    "\n",
    "**Top three Most Viewed Movies**\n",
    "- Shawshank Redemption (1994)\n",
    "- Pulp Fiction (1994)\n",
    "- Forrest Gump (1994)\n",
    "\n",
    "**Top Movie Viewers**\n",
    "- 72315\n",
    "- 80974\n",
    "- 137293\n",
    "\n",
    "\n"
   ]
  },
  {
   "cell_type": "markdown",
   "id": "3fa93ec6",
   "metadata": {
    "id": "3fa93ec6"
   },
   "source": [
    "<a id=\"four\"></a>\n",
    "## 4. Data Engineering\n",
    "<a class=\"anchor\" id=\"1.1\"></a>\n",
    "<a href=#cont>Back to Table of Contents</a>\n",
    "\n",
    "---\n",
    "    \n",
    "| ⚡ Description: Data engineering ⚡ |\n",
    "| :--------------------------- |\n",
    "\n",
    "\n",
    "---"
   ]
  },
  {
   "cell_type": "markdown",
   "id": "4ae80a33",
   "metadata": {},
   "source": [
    "**Data(Feature) Engineering** is the process of using domain knowledge to reconfigure the data and create “features” that optimize machine learning algorithms. With the insight gained from the **EDA** section above, we have decided to work with the below listed table:\n",
    "- train\n",
    "- test\n",
    "- movies\n",
    "- imdb_data\n",
    "\n",
    "Also, for this phase we shall execute the below task on our dataset:\n",
    "- Identify the unique userIds in the test data and only work with same for the purpose of **Content-based** algorithm\n",
    "- Sort both the train and test dataset by userId for both algorithms\n",
    "- Merge the movie and imdb_data tables separately with both the test and train dataset, for both algorithms \n",
    "- Drop unwanted columns after the merge\n",
    "- Generate a key word column, which is a collection of all vital features of a movie for **conten-based** algorithm\n",
    "- Divide the dataset set into chunks of 162,350( unique userId per chunk), to ease data processing acivities like vectorization and evaluation of cosine_similarity"
   ]
  },
  {
   "cell_type": "markdown",
   "id": "e2a3c3b3",
   "metadata": {},
   "source": [
    "#### Test userId\n",
    "We want to evaluate the difference between the unique userId in the Train dataset and Test dataset. This will aid our decision on how to finally prepare our datasets for modelings."
   ]
  },
  {
   "cell_type": "code",
   "execution_count": 19,
   "id": "0f114b4d",
   "metadata": {},
   "outputs": [
    {
     "data": {
      "text/plain": [
       "162350"
      ]
     },
     "execution_count": 19,
     "metadata": {},
     "output_type": "execute_result"
    }
   ],
   "source": [
    "test['userId'].nunique()"
   ]
  },
  {
   "cell_type": "code",
   "execution_count": 20,
   "id": "3e2f7ce1",
   "metadata": {},
   "outputs": [
    {
     "name": "stdout",
     "output_type": "stream",
     "text": [
      "The difference in unique userID count between train and test data set is: 191\n"
     ]
    }
   ],
   "source": [
    "test_case = test['userId'].nunique()\n",
    "train_case = train['userId'].nunique()\n",
    "print('The difference in unique userID count between train and test data set is:', (train_case - test_case))"
   ]
  },
  {
   "cell_type": "markdown",
   "id": "41136c73",
   "metadata": {},
   "source": [
    "From the above, proceed to extract these 191 userIds, that are not required for prediction"
   ]
  },
  {
   "cell_type": "code",
   "execution_count": 21,
   "id": "0f0767dc",
   "metadata": {},
   "outputs": [
    {
     "data": {
      "text/plain": [
       "[1, 2, 3, 4, 5, 6, 7, 8, 9, 10, 11, 12, 13, 14, 15, 16, 17, 18, 19, 20]"
      ]
     },
     "execution_count": 21,
     "metadata": {},
     "output_type": "execute_result"
    }
   ],
   "source": [
    "test_userids = test['userId'].unique().tolist()\n",
    "test_userids[:20]"
   ]
  },
  {
   "cell_type": "markdown",
   "id": "94b7cba2",
   "metadata": {},
   "source": [
    "#### UserId selection\n",
    "\n",
    "The below cell selects the userIds from train dataset, which will be used for the below prediction methods:\n",
    "- content-base method\n",
    "- collaborative-filtering method"
   ]
  },
  {
   "cell_type": "code",
   "execution_count": 22,
   "id": "816c9e5b",
   "metadata": {},
   "outputs": [
    {
     "data": {
      "text/plain": [
       "(10000038, 4)"
      ]
     },
     "execution_count": 22,
     "metadata": {},
     "output_type": "execute_result"
    }
   ],
   "source": [
    "#Extract rows with userId present in test userId\n",
    "\n",
    "# Uncomment the immediate line of code below, when generating chunks for content-base recommendations \n",
    "# useful_train = train[train['userId'].isin(test_userids)]\n",
    "\n",
    "# Uncomment the immediate line of code below, when making predicitons with collaborative-filtering method\n",
    "useful_train = train.copy()\n",
    "\n",
    "useful_train.shape"
   ]
  },
  {
   "cell_type": "markdown",
   "id": "1129bd54",
   "metadata": {},
   "source": [
    "#### Sorting of Tables\n",
    "\n",
    "We proceed to sort both tables( train and test ) by useId"
   ]
  },
  {
   "cell_type": "code",
   "execution_count": 23,
   "id": "cc8f7b08",
   "metadata": {},
   "outputs": [
    {
     "data": {
      "text/html": [
       "<div>\n",
       "<style scoped>\n",
       "    .dataframe tbody tr th:only-of-type {\n",
       "        vertical-align: middle;\n",
       "    }\n",
       "\n",
       "    .dataframe tbody tr th {\n",
       "        vertical-align: top;\n",
       "    }\n",
       "\n",
       "    .dataframe thead th {\n",
       "        text-align: right;\n",
       "    }\n",
       "</style>\n",
       "<table border=\"1\" class=\"dataframe\">\n",
       "  <thead>\n",
       "    <tr style=\"text-align: right;\">\n",
       "      <th></th>\n",
       "      <th>userId</th>\n",
       "      <th>movieId</th>\n",
       "      <th>rating</th>\n",
       "      <th>timestamp</th>\n",
       "    </tr>\n",
       "  </thead>\n",
       "  <tbody>\n",
       "    <tr>\n",
       "      <th>6308822</th>\n",
       "      <td>1</td>\n",
       "      <td>296</td>\n",
       "      <td>5.0</td>\n",
       "      <td>1147880044</td>\n",
       "    </tr>\n",
       "    <tr>\n",
       "      <th>3137042</th>\n",
       "      <td>1</td>\n",
       "      <td>27721</td>\n",
       "      <td>3.0</td>\n",
       "      <td>1147869115</td>\n",
       "    </tr>\n",
       "    <tr>\n",
       "      <th>2533005</th>\n",
       "      <td>1</td>\n",
       "      <td>665</td>\n",
       "      <td>5.0</td>\n",
       "      <td>1147878820</td>\n",
       "    </tr>\n",
       "    <tr>\n",
       "      <th>2524478</th>\n",
       "      <td>1</td>\n",
       "      <td>4308</td>\n",
       "      <td>3.0</td>\n",
       "      <td>1147868534</td>\n",
       "    </tr>\n",
       "    <tr>\n",
       "      <th>1946297</th>\n",
       "      <td>1</td>\n",
       "      <td>1250</td>\n",
       "      <td>4.0</td>\n",
       "      <td>1147868414</td>\n",
       "    </tr>\n",
       "  </tbody>\n",
       "</table>\n",
       "</div>"
      ],
      "text/plain": [
       "         userId  movieId  rating   timestamp\n",
       "6308822       1      296     5.0  1147880044\n",
       "3137042       1    27721     3.0  1147869115\n",
       "2533005       1      665     5.0  1147878820\n",
       "2524478       1     4308     3.0  1147868534\n",
       "1946297       1     1250     4.0  1147868414"
      ]
     },
     "execution_count": 23,
     "metadata": {},
     "output_type": "execute_result"
    }
   ],
   "source": [
    "# Sort train dataset by userId\n",
    "useful_train.sort_values(by=['userId'], inplace= True)\n",
    "useful_train.head()"
   ]
  },
  {
   "cell_type": "code",
   "execution_count": 24,
   "id": "b02c621d",
   "metadata": {},
   "outputs": [
    {
     "data": {
      "text/html": [
       "<div>\n",
       "<style scoped>\n",
       "    .dataframe tbody tr th:only-of-type {\n",
       "        vertical-align: middle;\n",
       "    }\n",
       "\n",
       "    .dataframe tbody tr th {\n",
       "        vertical-align: top;\n",
       "    }\n",
       "\n",
       "    .dataframe thead th {\n",
       "        text-align: right;\n",
       "    }\n",
       "</style>\n",
       "<table border=\"1\" class=\"dataframe\">\n",
       "  <thead>\n",
       "    <tr style=\"text-align: right;\">\n",
       "      <th></th>\n",
       "      <th>userId</th>\n",
       "      <th>movieId</th>\n",
       "    </tr>\n",
       "  </thead>\n",
       "  <tbody>\n",
       "    <tr>\n",
       "      <th>0</th>\n",
       "      <td>1</td>\n",
       "      <td>2011</td>\n",
       "    </tr>\n",
       "    <tr>\n",
       "      <th>1</th>\n",
       "      <td>1</td>\n",
       "      <td>4144</td>\n",
       "    </tr>\n",
       "    <tr>\n",
       "      <th>2</th>\n",
       "      <td>1</td>\n",
       "      <td>5767</td>\n",
       "    </tr>\n",
       "    <tr>\n",
       "      <th>3</th>\n",
       "      <td>1</td>\n",
       "      <td>6711</td>\n",
       "    </tr>\n",
       "    <tr>\n",
       "      <th>4</th>\n",
       "      <td>1</td>\n",
       "      <td>7318</td>\n",
       "    </tr>\n",
       "  </tbody>\n",
       "</table>\n",
       "</div>"
      ],
      "text/plain": [
       "   userId  movieId\n",
       "0       1     2011\n",
       "1       1     4144\n",
       "2       1     5767\n",
       "3       1     6711\n",
       "4       1     7318"
      ]
     },
     "execution_count": 24,
     "metadata": {},
     "output_type": "execute_result"
    }
   ],
   "source": [
    "# Sort test dataset by userId\n",
    "test.sort_values(by=['userId'], inplace= True)\n",
    "test.head()"
   ]
  },
  {
   "cell_type": "markdown",
   "id": "f66eb6d0",
   "metadata": {},
   "source": [
    "#### Merging of relevant tables\n",
    "\n",
    "At this stage, we merge both tables with other tables considered to be useful for the task at hand.\n",
    "The tables we merge with are listed below:\n",
    "- imdb_data\n",
    "- movies\n"
   ]
  },
  {
   "cell_type": "code",
   "execution_count": 25,
   "id": "3da69d1d",
   "metadata": {},
   "outputs": [
    {
     "data": {
      "text/html": [
       "<div>\n",
       "<style scoped>\n",
       "    .dataframe tbody tr th:only-of-type {\n",
       "        vertical-align: middle;\n",
       "    }\n",
       "\n",
       "    .dataframe tbody tr th {\n",
       "        vertical-align: top;\n",
       "    }\n",
       "\n",
       "    .dataframe thead th {\n",
       "        text-align: right;\n",
       "    }\n",
       "</style>\n",
       "<table border=\"1\" class=\"dataframe\">\n",
       "  <thead>\n",
       "    <tr style=\"text-align: right;\">\n",
       "      <th></th>\n",
       "      <th>userId</th>\n",
       "      <th>movieId</th>\n",
       "      <th>rating</th>\n",
       "      <th>timestamp</th>\n",
       "      <th>title_cast</th>\n",
       "      <th>director</th>\n",
       "      <th>runtime</th>\n",
       "      <th>budget</th>\n",
       "      <th>plot_keywords</th>\n",
       "    </tr>\n",
       "  </thead>\n",
       "  <tbody>\n",
       "    <tr>\n",
       "      <th>0</th>\n",
       "      <td>1</td>\n",
       "      <td>296</td>\n",
       "      <td>5.0</td>\n",
       "      <td>1147880044</td>\n",
       "      <td>Tim Roth|Amanda Plummer|Laura Lovelace|John Tr...</td>\n",
       "      <td>Quentin Tarantino</td>\n",
       "      <td>154.0</td>\n",
       "      <td>$8,000,000</td>\n",
       "      <td>nonlinear timeline|overdose|drug overdose|bondage</td>\n",
       "    </tr>\n",
       "    <tr>\n",
       "      <th>1</th>\n",
       "      <td>1</td>\n",
       "      <td>27721</td>\n",
       "      <td>3.0</td>\n",
       "      <td>1147869115</td>\n",
       "      <td>Audrey Tautou|Gaspard Ulliel|Dominique Pinon|C...</td>\n",
       "      <td>Sébastien Japrisot</td>\n",
       "      <td>133.0</td>\n",
       "      <td>$56,600,000</td>\n",
       "      <td>cracking a nut|bedridden|boot|mouse</td>\n",
       "    </tr>\n",
       "    <tr>\n",
       "      <th>2</th>\n",
       "      <td>1</td>\n",
       "      <td>665</td>\n",
       "      <td>5.0</td>\n",
       "      <td>1147878820</td>\n",
       "      <td>Predrag 'Miki' Manojlovic|Lazar Ristovski|Mirj...</td>\n",
       "      <td>Dusan Kovacevic</td>\n",
       "      <td>170.0</td>\n",
       "      <td>$14,000,000</td>\n",
       "      <td>magical realism|communism|zoo|black comedy</td>\n",
       "    </tr>\n",
       "    <tr>\n",
       "      <th>3</th>\n",
       "      <td>1</td>\n",
       "      <td>4308</td>\n",
       "      <td>3.0</td>\n",
       "      <td>1147868534</td>\n",
       "      <td>Nicole Kidman|Ewan McGregor|John Leguizamo|Jim...</td>\n",
       "      <td>Baz Luhrmann</td>\n",
       "      <td>127.0</td>\n",
       "      <td>$50,000,000</td>\n",
       "      <td>belle epoque|tragic ending|jealousy|jukebox mu...</td>\n",
       "    </tr>\n",
       "    <tr>\n",
       "      <th>4</th>\n",
       "      <td>1</td>\n",
       "      <td>1250</td>\n",
       "      <td>4.0</td>\n",
       "      <td>1147868414</td>\n",
       "      <td>NaN</td>\n",
       "      <td>NaN</td>\n",
       "      <td>NaN</td>\n",
       "      <td>NaN</td>\n",
       "      <td>NaN</td>\n",
       "    </tr>\n",
       "  </tbody>\n",
       "</table>\n",
       "</div>"
      ],
      "text/plain": [
       "   userId  movieId  rating   timestamp  \\\n",
       "0       1      296     5.0  1147880044   \n",
       "1       1    27721     3.0  1147869115   \n",
       "2       1      665     5.0  1147878820   \n",
       "3       1     4308     3.0  1147868534   \n",
       "4       1     1250     4.0  1147868414   \n",
       "\n",
       "                                          title_cast            director  \\\n",
       "0  Tim Roth|Amanda Plummer|Laura Lovelace|John Tr...   Quentin Tarantino   \n",
       "1  Audrey Tautou|Gaspard Ulliel|Dominique Pinon|C...  Sébastien Japrisot   \n",
       "2  Predrag 'Miki' Manojlovic|Lazar Ristovski|Mirj...     Dusan Kovacevic   \n",
       "3  Nicole Kidman|Ewan McGregor|John Leguizamo|Jim...        Baz Luhrmann   \n",
       "4                                                NaN                 NaN   \n",
       "\n",
       "   runtime       budget                                      plot_keywords  \n",
       "0    154.0   $8,000,000  nonlinear timeline|overdose|drug overdose|bondage  \n",
       "1    133.0  $56,600,000                cracking a nut|bedridden|boot|mouse  \n",
       "2    170.0  $14,000,000         magical realism|communism|zoo|black comedy  \n",
       "3    127.0  $50,000,000  belle epoque|tragic ending|jealousy|jukebox mu...  \n",
       "4      NaN          NaN                                                NaN  "
      ]
     },
     "execution_count": 25,
     "metadata": {},
     "output_type": "execute_result"
    }
   ],
   "source": [
    "# Merge train table with imdb_data table \n",
    "useful_train = useful_train.merge(imdb_data, on = 'movieId', how= 'left')\n",
    "useful_train.head()"
   ]
  },
  {
   "cell_type": "code",
   "execution_count": 26,
   "id": "7059e6da",
   "metadata": {},
   "outputs": [
    {
     "data": {
      "text/html": [
       "<div>\n",
       "<style scoped>\n",
       "    .dataframe tbody tr th:only-of-type {\n",
       "        vertical-align: middle;\n",
       "    }\n",
       "\n",
       "    .dataframe tbody tr th {\n",
       "        vertical-align: top;\n",
       "    }\n",
       "\n",
       "    .dataframe thead th {\n",
       "        text-align: right;\n",
       "    }\n",
       "</style>\n",
       "<table border=\"1\" class=\"dataframe\">\n",
       "  <thead>\n",
       "    <tr style=\"text-align: right;\">\n",
       "      <th></th>\n",
       "      <th>userId</th>\n",
       "      <th>movieId</th>\n",
       "      <th>title_cast</th>\n",
       "      <th>director</th>\n",
       "      <th>runtime</th>\n",
       "      <th>budget</th>\n",
       "      <th>plot_keywords</th>\n",
       "    </tr>\n",
       "  </thead>\n",
       "  <tbody>\n",
       "    <tr>\n",
       "      <th>0</th>\n",
       "      <td>1</td>\n",
       "      <td>2011</td>\n",
       "      <td>NaN</td>\n",
       "      <td>NaN</td>\n",
       "      <td>NaN</td>\n",
       "      <td>NaN</td>\n",
       "      <td>NaN</td>\n",
       "    </tr>\n",
       "    <tr>\n",
       "      <th>1</th>\n",
       "      <td>1</td>\n",
       "      <td>4144</td>\n",
       "      <td>Maggie Cheung|Tony Chiu-Wai Leung|Ping Lam Siu...</td>\n",
       "      <td>Kar-Wai Wong</td>\n",
       "      <td>98.0</td>\n",
       "      <td>NaN</td>\n",
       "      <td>adultery|loneliness|neighbor|infidelity</td>\n",
       "    </tr>\n",
       "    <tr>\n",
       "      <th>2</th>\n",
       "      <td>1</td>\n",
       "      <td>5767</td>\n",
       "      <td>NaN</td>\n",
       "      <td>NaN</td>\n",
       "      <td>NaN</td>\n",
       "      <td>NaN</td>\n",
       "      <td>NaN</td>\n",
       "    </tr>\n",
       "    <tr>\n",
       "      <th>3</th>\n",
       "      <td>1</td>\n",
       "      <td>6711</td>\n",
       "      <td>Scarlett Johansson|Bill Murray|Akiko Takeshita...</td>\n",
       "      <td>Sofia Coppola</td>\n",
       "      <td>102.0</td>\n",
       "      <td>$4,000,000</td>\n",
       "      <td>older man younger woman relationship|lonelines...</td>\n",
       "    </tr>\n",
       "    <tr>\n",
       "      <th>4</th>\n",
       "      <td>1</td>\n",
       "      <td>7318</td>\n",
       "      <td>Jim Caviezel|Maia Morgenstern|Christo Jivkov|F...</td>\n",
       "      <td>Benedict Fitzgerald</td>\n",
       "      <td>127.0</td>\n",
       "      <td>$30,000,000</td>\n",
       "      <td>suffering|torture|brutality|whipping</td>\n",
       "    </tr>\n",
       "  </tbody>\n",
       "</table>\n",
       "</div>"
      ],
      "text/plain": [
       "   userId  movieId                                         title_cast  \\\n",
       "0       1     2011                                                NaN   \n",
       "1       1     4144  Maggie Cheung|Tony Chiu-Wai Leung|Ping Lam Siu...   \n",
       "2       1     5767                                                NaN   \n",
       "3       1     6711  Scarlett Johansson|Bill Murray|Akiko Takeshita...   \n",
       "4       1     7318  Jim Caviezel|Maia Morgenstern|Christo Jivkov|F...   \n",
       "\n",
       "              director  runtime       budget  \\\n",
       "0                  NaN      NaN          NaN   \n",
       "1         Kar-Wai Wong     98.0          NaN   \n",
       "2                  NaN      NaN          NaN   \n",
       "3        Sofia Coppola    102.0   $4,000,000   \n",
       "4  Benedict Fitzgerald    127.0  $30,000,000   \n",
       "\n",
       "                                       plot_keywords  \n",
       "0                                                NaN  \n",
       "1            adultery|loneliness|neighbor|infidelity  \n",
       "2                                                NaN  \n",
       "3  older man younger woman relationship|lonelines...  \n",
       "4               suffering|torture|brutality|whipping  "
      ]
     },
     "execution_count": 26,
     "metadata": {},
     "output_type": "execute_result"
    }
   ],
   "source": [
    "# Merge test table with imdb_data table \n",
    "test = test.merge(imdb_data, on = 'movieId', how= 'left')\n",
    "test.head()"
   ]
  },
  {
   "cell_type": "code",
   "execution_count": 27,
   "id": "d13e6ed8",
   "metadata": {},
   "outputs": [
    {
     "data": {
      "text/html": [
       "<div>\n",
       "<style scoped>\n",
       "    .dataframe tbody tr th:only-of-type {\n",
       "        vertical-align: middle;\n",
       "    }\n",
       "\n",
       "    .dataframe tbody tr th {\n",
       "        vertical-align: top;\n",
       "    }\n",
       "\n",
       "    .dataframe thead th {\n",
       "        text-align: right;\n",
       "    }\n",
       "</style>\n",
       "<table border=\"1\" class=\"dataframe\">\n",
       "  <thead>\n",
       "    <tr style=\"text-align: right;\">\n",
       "      <th></th>\n",
       "      <th>userId</th>\n",
       "      <th>movieId</th>\n",
       "      <th>rating</th>\n",
       "      <th>timestamp</th>\n",
       "      <th>title_cast</th>\n",
       "      <th>director</th>\n",
       "      <th>runtime</th>\n",
       "      <th>budget</th>\n",
       "      <th>plot_keywords</th>\n",
       "      <th>title</th>\n",
       "      <th>genres</th>\n",
       "    </tr>\n",
       "  </thead>\n",
       "  <tbody>\n",
       "    <tr>\n",
       "      <th>0</th>\n",
       "      <td>1</td>\n",
       "      <td>296</td>\n",
       "      <td>5.0</td>\n",
       "      <td>1147880044</td>\n",
       "      <td>Tim Roth|Amanda Plummer|Laura Lovelace|John Tr...</td>\n",
       "      <td>Quentin Tarantino</td>\n",
       "      <td>154.0</td>\n",
       "      <td>$8,000,000</td>\n",
       "      <td>nonlinear timeline|overdose|drug overdose|bondage</td>\n",
       "      <td>Pulp Fiction (1994)</td>\n",
       "      <td>Comedy|Crime|Drama|Thriller</td>\n",
       "    </tr>\n",
       "    <tr>\n",
       "      <th>1</th>\n",
       "      <td>1</td>\n",
       "      <td>27721</td>\n",
       "      <td>3.0</td>\n",
       "      <td>1147869115</td>\n",
       "      <td>Audrey Tautou|Gaspard Ulliel|Dominique Pinon|C...</td>\n",
       "      <td>Sébastien Japrisot</td>\n",
       "      <td>133.0</td>\n",
       "      <td>$56,600,000</td>\n",
       "      <td>cracking a nut|bedridden|boot|mouse</td>\n",
       "      <td>Very Long Engagement, A (Un long dimanche de f...</td>\n",
       "      <td>Drama|Mystery|Romance|War</td>\n",
       "    </tr>\n",
       "    <tr>\n",
       "      <th>2</th>\n",
       "      <td>1</td>\n",
       "      <td>665</td>\n",
       "      <td>5.0</td>\n",
       "      <td>1147878820</td>\n",
       "      <td>Predrag 'Miki' Manojlovic|Lazar Ristovski|Mirj...</td>\n",
       "      <td>Dusan Kovacevic</td>\n",
       "      <td>170.0</td>\n",
       "      <td>$14,000,000</td>\n",
       "      <td>magical realism|communism|zoo|black comedy</td>\n",
       "      <td>Underground (1995)</td>\n",
       "      <td>Comedy|Drama|War</td>\n",
       "    </tr>\n",
       "    <tr>\n",
       "      <th>3</th>\n",
       "      <td>1</td>\n",
       "      <td>4308</td>\n",
       "      <td>3.0</td>\n",
       "      <td>1147868534</td>\n",
       "      <td>Nicole Kidman|Ewan McGregor|John Leguizamo|Jim...</td>\n",
       "      <td>Baz Luhrmann</td>\n",
       "      <td>127.0</td>\n",
       "      <td>$50,000,000</td>\n",
       "      <td>belle epoque|tragic ending|jealousy|jukebox mu...</td>\n",
       "      <td>Moulin Rouge (2001)</td>\n",
       "      <td>Drama|Musical|Romance</td>\n",
       "    </tr>\n",
       "    <tr>\n",
       "      <th>4</th>\n",
       "      <td>1</td>\n",
       "      <td>1250</td>\n",
       "      <td>4.0</td>\n",
       "      <td>1147868414</td>\n",
       "      <td>NaN</td>\n",
       "      <td>NaN</td>\n",
       "      <td>NaN</td>\n",
       "      <td>NaN</td>\n",
       "      <td>NaN</td>\n",
       "      <td>Bridge on the River Kwai, The (1957)</td>\n",
       "      <td>Adventure|Drama|War</td>\n",
       "    </tr>\n",
       "  </tbody>\n",
       "</table>\n",
       "</div>"
      ],
      "text/plain": [
       "   userId  movieId  rating   timestamp  \\\n",
       "0       1      296     5.0  1147880044   \n",
       "1       1    27721     3.0  1147869115   \n",
       "2       1      665     5.0  1147878820   \n",
       "3       1     4308     3.0  1147868534   \n",
       "4       1     1250     4.0  1147868414   \n",
       "\n",
       "                                          title_cast            director  \\\n",
       "0  Tim Roth|Amanda Plummer|Laura Lovelace|John Tr...   Quentin Tarantino   \n",
       "1  Audrey Tautou|Gaspard Ulliel|Dominique Pinon|C...  Sébastien Japrisot   \n",
       "2  Predrag 'Miki' Manojlovic|Lazar Ristovski|Mirj...     Dusan Kovacevic   \n",
       "3  Nicole Kidman|Ewan McGregor|John Leguizamo|Jim...        Baz Luhrmann   \n",
       "4                                                NaN                 NaN   \n",
       "\n",
       "   runtime       budget                                      plot_keywords  \\\n",
       "0    154.0   $8,000,000  nonlinear timeline|overdose|drug overdose|bondage   \n",
       "1    133.0  $56,600,000                cracking a nut|bedridden|boot|mouse   \n",
       "2    170.0  $14,000,000         magical realism|communism|zoo|black comedy   \n",
       "3    127.0  $50,000,000  belle epoque|tragic ending|jealousy|jukebox mu...   \n",
       "4      NaN          NaN                                                NaN   \n",
       "\n",
       "                                               title  \\\n",
       "0                                Pulp Fiction (1994)   \n",
       "1  Very Long Engagement, A (Un long dimanche de f...   \n",
       "2                                 Underground (1995)   \n",
       "3                                Moulin Rouge (2001)   \n",
       "4               Bridge on the River Kwai, The (1957)   \n",
       "\n",
       "                        genres  \n",
       "0  Comedy|Crime|Drama|Thriller  \n",
       "1    Drama|Mystery|Romance|War  \n",
       "2             Comedy|Drama|War  \n",
       "3        Drama|Musical|Romance  \n",
       "4          Adventure|Drama|War  "
      ]
     },
     "execution_count": 27,
     "metadata": {},
     "output_type": "execute_result"
    }
   ],
   "source": [
    "# Merge train table with movies table \n",
    "useful_train = useful_train.merge(movies, on = 'movieId', how= 'left')\n",
    "useful_train.head()"
   ]
  },
  {
   "cell_type": "code",
   "execution_count": 28,
   "id": "3b5349d2",
   "metadata": {},
   "outputs": [
    {
     "data": {
      "text/html": [
       "<div>\n",
       "<style scoped>\n",
       "    .dataframe tbody tr th:only-of-type {\n",
       "        vertical-align: middle;\n",
       "    }\n",
       "\n",
       "    .dataframe tbody tr th {\n",
       "        vertical-align: top;\n",
       "    }\n",
       "\n",
       "    .dataframe thead th {\n",
       "        text-align: right;\n",
       "    }\n",
       "</style>\n",
       "<table border=\"1\" class=\"dataframe\">\n",
       "  <thead>\n",
       "    <tr style=\"text-align: right;\">\n",
       "      <th></th>\n",
       "      <th>userId</th>\n",
       "      <th>movieId</th>\n",
       "      <th>title_cast</th>\n",
       "      <th>director</th>\n",
       "      <th>runtime</th>\n",
       "      <th>budget</th>\n",
       "      <th>plot_keywords</th>\n",
       "      <th>title</th>\n",
       "      <th>genres</th>\n",
       "    </tr>\n",
       "  </thead>\n",
       "  <tbody>\n",
       "    <tr>\n",
       "      <th>0</th>\n",
       "      <td>1</td>\n",
       "      <td>2011</td>\n",
       "      <td>NaN</td>\n",
       "      <td>NaN</td>\n",
       "      <td>NaN</td>\n",
       "      <td>NaN</td>\n",
       "      <td>NaN</td>\n",
       "      <td>Back to the Future Part II (1989)</td>\n",
       "      <td>Adventure|Comedy|Sci-Fi</td>\n",
       "    </tr>\n",
       "    <tr>\n",
       "      <th>1</th>\n",
       "      <td>1</td>\n",
       "      <td>4144</td>\n",
       "      <td>Maggie Cheung|Tony Chiu-Wai Leung|Ping Lam Siu...</td>\n",
       "      <td>Kar-Wai Wong</td>\n",
       "      <td>98.0</td>\n",
       "      <td>NaN</td>\n",
       "      <td>adultery|loneliness|neighbor|infidelity</td>\n",
       "      <td>In the Mood For Love (Fa yeung nin wa) (2000)</td>\n",
       "      <td>Drama|Romance</td>\n",
       "    </tr>\n",
       "    <tr>\n",
       "      <th>2</th>\n",
       "      <td>1</td>\n",
       "      <td>5767</td>\n",
       "      <td>NaN</td>\n",
       "      <td>NaN</td>\n",
       "      <td>NaN</td>\n",
       "      <td>NaN</td>\n",
       "      <td>NaN</td>\n",
       "      <td>Teddy Bear (Mis) (1981)</td>\n",
       "      <td>Comedy|Crime</td>\n",
       "    </tr>\n",
       "    <tr>\n",
       "      <th>3</th>\n",
       "      <td>1</td>\n",
       "      <td>6711</td>\n",
       "      <td>Scarlett Johansson|Bill Murray|Akiko Takeshita...</td>\n",
       "      <td>Sofia Coppola</td>\n",
       "      <td>102.0</td>\n",
       "      <td>$4,000,000</td>\n",
       "      <td>older man younger woman relationship|lonelines...</td>\n",
       "      <td>Lost in Translation (2003)</td>\n",
       "      <td>Comedy|Drama|Romance</td>\n",
       "    </tr>\n",
       "    <tr>\n",
       "      <th>4</th>\n",
       "      <td>1</td>\n",
       "      <td>7318</td>\n",
       "      <td>Jim Caviezel|Maia Morgenstern|Christo Jivkov|F...</td>\n",
       "      <td>Benedict Fitzgerald</td>\n",
       "      <td>127.0</td>\n",
       "      <td>$30,000,000</td>\n",
       "      <td>suffering|torture|brutality|whipping</td>\n",
       "      <td>Passion of the Christ, The (2004)</td>\n",
       "      <td>Drama</td>\n",
       "    </tr>\n",
       "  </tbody>\n",
       "</table>\n",
       "</div>"
      ],
      "text/plain": [
       "   userId  movieId                                         title_cast  \\\n",
       "0       1     2011                                                NaN   \n",
       "1       1     4144  Maggie Cheung|Tony Chiu-Wai Leung|Ping Lam Siu...   \n",
       "2       1     5767                                                NaN   \n",
       "3       1     6711  Scarlett Johansson|Bill Murray|Akiko Takeshita...   \n",
       "4       1     7318  Jim Caviezel|Maia Morgenstern|Christo Jivkov|F...   \n",
       "\n",
       "              director  runtime       budget  \\\n",
       "0                  NaN      NaN          NaN   \n",
       "1         Kar-Wai Wong     98.0          NaN   \n",
       "2                  NaN      NaN          NaN   \n",
       "3        Sofia Coppola    102.0   $4,000,000   \n",
       "4  Benedict Fitzgerald    127.0  $30,000,000   \n",
       "\n",
       "                                       plot_keywords  \\\n",
       "0                                                NaN   \n",
       "1            adultery|loneliness|neighbor|infidelity   \n",
       "2                                                NaN   \n",
       "3  older man younger woman relationship|lonelines...   \n",
       "4               suffering|torture|brutality|whipping   \n",
       "\n",
       "                                           title                   genres  \n",
       "0              Back to the Future Part II (1989)  Adventure|Comedy|Sci-Fi  \n",
       "1  In the Mood For Love (Fa yeung nin wa) (2000)            Drama|Romance  \n",
       "2                        Teddy Bear (Mis) (1981)             Comedy|Crime  \n",
       "3                     Lost in Translation (2003)     Comedy|Drama|Romance  \n",
       "4              Passion of the Christ, The (2004)                    Drama  "
      ]
     },
     "execution_count": 28,
     "metadata": {},
     "output_type": "execute_result"
    }
   ],
   "source": [
    "# Merge test table with movies table \n",
    "test = test.merge(movies, on = 'movieId', how= 'left')\n",
    "test.head()"
   ]
  },
  {
   "cell_type": "markdown",
   "id": "0b6026c0",
   "metadata": {},
   "source": [
    "#### Merging vital colunms\n",
    "\n",
    "For this stage, we proceed to merge columns we have considered to be important in describing the content of a movie into a new column called key_words. The columns are listed below:\n",
    "- title_cast\n",
    "- director\n",
    "- plot_keywords\n",
    "- genres"
   ]
  },
  {
   "cell_type": "code",
   "execution_count": 29,
   "id": "7c06b79f",
   "metadata": {},
   "outputs": [
    {
     "data": {
      "text/html": [
       "<div>\n",
       "<style scoped>\n",
       "    .dataframe tbody tr th:only-of-type {\n",
       "        vertical-align: middle;\n",
       "    }\n",
       "\n",
       "    .dataframe tbody tr th {\n",
       "        vertical-align: top;\n",
       "    }\n",
       "\n",
       "    .dataframe thead th {\n",
       "        text-align: right;\n",
       "    }\n",
       "</style>\n",
       "<table border=\"1\" class=\"dataframe\">\n",
       "  <thead>\n",
       "    <tr style=\"text-align: right;\">\n",
       "      <th></th>\n",
       "      <th>userId</th>\n",
       "      <th>movieId</th>\n",
       "      <th>rating</th>\n",
       "      <th>timestamp</th>\n",
       "      <th>title_cast</th>\n",
       "      <th>director</th>\n",
       "      <th>runtime</th>\n",
       "      <th>budget</th>\n",
       "      <th>plot_keywords</th>\n",
       "      <th>title</th>\n",
       "      <th>genres</th>\n",
       "      <th>key_words</th>\n",
       "    </tr>\n",
       "  </thead>\n",
       "  <tbody>\n",
       "    <tr>\n",
       "      <th>0</th>\n",
       "      <td>1</td>\n",
       "      <td>296</td>\n",
       "      <td>5.0</td>\n",
       "      <td>1147880044</td>\n",
       "      <td>Tim Roth|Amanda Plummer|Laura Lovelace|John Tr...</td>\n",
       "      <td>Quentin Tarantino</td>\n",
       "      <td>154.0</td>\n",
       "      <td>$8,000,000</td>\n",
       "      <td>nonlinear timeline|overdose|drug overdose|bondage</td>\n",
       "      <td>Pulp Fiction (1994)</td>\n",
       "      <td>Comedy|Crime|Drama|Thriller</td>\n",
       "      <td>Tim Roth|Amanda Plummer|Laura Lovelace|John Tr...</td>\n",
       "    </tr>\n",
       "    <tr>\n",
       "      <th>1</th>\n",
       "      <td>1</td>\n",
       "      <td>27721</td>\n",
       "      <td>3.0</td>\n",
       "      <td>1147869115</td>\n",
       "      <td>Audrey Tautou|Gaspard Ulliel|Dominique Pinon|C...</td>\n",
       "      <td>Sébastien Japrisot</td>\n",
       "      <td>133.0</td>\n",
       "      <td>$56,600,000</td>\n",
       "      <td>cracking a nut|bedridden|boot|mouse</td>\n",
       "      <td>Very Long Engagement, A (Un long dimanche de f...</td>\n",
       "      <td>Drama|Mystery|Romance|War</td>\n",
       "      <td>Audrey Tautou|Gaspard Ulliel|Dominique Pinon|C...</td>\n",
       "    </tr>\n",
       "    <tr>\n",
       "      <th>2</th>\n",
       "      <td>1</td>\n",
       "      <td>665</td>\n",
       "      <td>5.0</td>\n",
       "      <td>1147878820</td>\n",
       "      <td>Predrag 'Miki' Manojlovic|Lazar Ristovski|Mirj...</td>\n",
       "      <td>Dusan Kovacevic</td>\n",
       "      <td>170.0</td>\n",
       "      <td>$14,000,000</td>\n",
       "      <td>magical realism|communism|zoo|black comedy</td>\n",
       "      <td>Underground (1995)</td>\n",
       "      <td>Comedy|Drama|War</td>\n",
       "      <td>Predrag 'Miki' Manojlovic|Lazar Ristovski|Mirj...</td>\n",
       "    </tr>\n",
       "    <tr>\n",
       "      <th>3</th>\n",
       "      <td>1</td>\n",
       "      <td>4308</td>\n",
       "      <td>3.0</td>\n",
       "      <td>1147868534</td>\n",
       "      <td>Nicole Kidman|Ewan McGregor|John Leguizamo|Jim...</td>\n",
       "      <td>Baz Luhrmann</td>\n",
       "      <td>127.0</td>\n",
       "      <td>$50,000,000</td>\n",
       "      <td>belle epoque|tragic ending|jealousy|jukebox mu...</td>\n",
       "      <td>Moulin Rouge (2001)</td>\n",
       "      <td>Drama|Musical|Romance</td>\n",
       "      <td>Nicole Kidman|Ewan McGregor|John Leguizamo|Jim...</td>\n",
       "    </tr>\n",
       "    <tr>\n",
       "      <th>4</th>\n",
       "      <td>1</td>\n",
       "      <td>1250</td>\n",
       "      <td>4.0</td>\n",
       "      <td>1147868414</td>\n",
       "      <td>NaN</td>\n",
       "      <td>NaN</td>\n",
       "      <td>NaN</td>\n",
       "      <td>NaN</td>\n",
       "      <td>NaN</td>\n",
       "      <td>Bridge on the River Kwai, The (1957)</td>\n",
       "      <td>Adventure|Drama|War</td>\n",
       "      <td>Adventure|Drama|War</td>\n",
       "    </tr>\n",
       "  </tbody>\n",
       "</table>\n",
       "</div>"
      ],
      "text/plain": [
       "   userId  movieId  rating   timestamp  \\\n",
       "0       1      296     5.0  1147880044   \n",
       "1       1    27721     3.0  1147869115   \n",
       "2       1      665     5.0  1147878820   \n",
       "3       1     4308     3.0  1147868534   \n",
       "4       1     1250     4.0  1147868414   \n",
       "\n",
       "                                          title_cast            director  \\\n",
       "0  Tim Roth|Amanda Plummer|Laura Lovelace|John Tr...   Quentin Tarantino   \n",
       "1  Audrey Tautou|Gaspard Ulliel|Dominique Pinon|C...  Sébastien Japrisot   \n",
       "2  Predrag 'Miki' Manojlovic|Lazar Ristovski|Mirj...     Dusan Kovacevic   \n",
       "3  Nicole Kidman|Ewan McGregor|John Leguizamo|Jim...        Baz Luhrmann   \n",
       "4                                                NaN                 NaN   \n",
       "\n",
       "   runtime       budget                                      plot_keywords  \\\n",
       "0    154.0   $8,000,000  nonlinear timeline|overdose|drug overdose|bondage   \n",
       "1    133.0  $56,600,000                cracking a nut|bedridden|boot|mouse   \n",
       "2    170.0  $14,000,000         magical realism|communism|zoo|black comedy   \n",
       "3    127.0  $50,000,000  belle epoque|tragic ending|jealousy|jukebox mu...   \n",
       "4      NaN          NaN                                                NaN   \n",
       "\n",
       "                                               title  \\\n",
       "0                                Pulp Fiction (1994)   \n",
       "1  Very Long Engagement, A (Un long dimanche de f...   \n",
       "2                                 Underground (1995)   \n",
       "3                                Moulin Rouge (2001)   \n",
       "4               Bridge on the River Kwai, The (1957)   \n",
       "\n",
       "                        genres  \\\n",
       "0  Comedy|Crime|Drama|Thriller   \n",
       "1    Drama|Mystery|Romance|War   \n",
       "2             Comedy|Drama|War   \n",
       "3        Drama|Musical|Romance   \n",
       "4          Adventure|Drama|War   \n",
       "\n",
       "                                           key_words  \n",
       "0  Tim Roth|Amanda Plummer|Laura Lovelace|John Tr...  \n",
       "1  Audrey Tautou|Gaspard Ulliel|Dominique Pinon|C...  \n",
       "2  Predrag 'Miki' Manojlovic|Lazar Ristovski|Mirj...  \n",
       "3  Nicole Kidman|Ewan McGregor|John Leguizamo|Jim...  \n",
       "4                                Adventure|Drama|War  "
      ]
     },
     "execution_count": 29,
     "metadata": {},
     "output_type": "execute_result"
    }
   ],
   "source": [
    "# Merge the columns listed above into a new column named key_words fot the train data\n",
    "useful_train['key_words'] = (pd.Series(useful_train[['title_cast', 'director', 'plot_keywords', 'genres']].fillna('')\n",
    "                      .values.tolist()).str.join(' '))\n",
    "useful_train.head()"
   ]
  },
  {
   "cell_type": "code",
   "execution_count": 30,
   "id": "fa0d1183",
   "metadata": {},
   "outputs": [
    {
     "name": "stdout",
     "output_type": "stream",
     "text": [
      " There are 0 numbers of NaN values in the train keywords column\n"
     ]
    }
   ],
   "source": [
    "# confrim the absense of NaN value in the key_word column for the train data\n",
    "nan = useful_train['key_words'].isna().sum()\n",
    "print(f' There are {nan} numbers of NaN values in the train keywords column')"
   ]
  },
  {
   "cell_type": "code",
   "execution_count": 31,
   "id": "ae4f684d",
   "metadata": {},
   "outputs": [
    {
     "data": {
      "text/html": [
       "<div>\n",
       "<style scoped>\n",
       "    .dataframe tbody tr th:only-of-type {\n",
       "        vertical-align: middle;\n",
       "    }\n",
       "\n",
       "    .dataframe tbody tr th {\n",
       "        vertical-align: top;\n",
       "    }\n",
       "\n",
       "    .dataframe thead th {\n",
       "        text-align: right;\n",
       "    }\n",
       "</style>\n",
       "<table border=\"1\" class=\"dataframe\">\n",
       "  <thead>\n",
       "    <tr style=\"text-align: right;\">\n",
       "      <th></th>\n",
       "      <th>userId</th>\n",
       "      <th>movieId</th>\n",
       "      <th>title_cast</th>\n",
       "      <th>director</th>\n",
       "      <th>runtime</th>\n",
       "      <th>budget</th>\n",
       "      <th>plot_keywords</th>\n",
       "      <th>title</th>\n",
       "      <th>genres</th>\n",
       "      <th>key_words</th>\n",
       "    </tr>\n",
       "  </thead>\n",
       "  <tbody>\n",
       "    <tr>\n",
       "      <th>0</th>\n",
       "      <td>1</td>\n",
       "      <td>2011</td>\n",
       "      <td>NaN</td>\n",
       "      <td>NaN</td>\n",
       "      <td>NaN</td>\n",
       "      <td>NaN</td>\n",
       "      <td>NaN</td>\n",
       "      <td>Back to the Future Part II (1989)</td>\n",
       "      <td>Adventure|Comedy|Sci-Fi</td>\n",
       "      <td>Adventure|Comedy|Sci-Fi</td>\n",
       "    </tr>\n",
       "    <tr>\n",
       "      <th>1</th>\n",
       "      <td>1</td>\n",
       "      <td>4144</td>\n",
       "      <td>Maggie Cheung|Tony Chiu-Wai Leung|Ping Lam Siu...</td>\n",
       "      <td>Kar-Wai Wong</td>\n",
       "      <td>98.0</td>\n",
       "      <td>NaN</td>\n",
       "      <td>adultery|loneliness|neighbor|infidelity</td>\n",
       "      <td>In the Mood For Love (Fa yeung nin wa) (2000)</td>\n",
       "      <td>Drama|Romance</td>\n",
       "      <td>Maggie Cheung|Tony Chiu-Wai Leung|Ping Lam Siu...</td>\n",
       "    </tr>\n",
       "    <tr>\n",
       "      <th>2</th>\n",
       "      <td>1</td>\n",
       "      <td>5767</td>\n",
       "      <td>NaN</td>\n",
       "      <td>NaN</td>\n",
       "      <td>NaN</td>\n",
       "      <td>NaN</td>\n",
       "      <td>NaN</td>\n",
       "      <td>Teddy Bear (Mis) (1981)</td>\n",
       "      <td>Comedy|Crime</td>\n",
       "      <td>Comedy|Crime</td>\n",
       "    </tr>\n",
       "    <tr>\n",
       "      <th>3</th>\n",
       "      <td>1</td>\n",
       "      <td>6711</td>\n",
       "      <td>Scarlett Johansson|Bill Murray|Akiko Takeshita...</td>\n",
       "      <td>Sofia Coppola</td>\n",
       "      <td>102.0</td>\n",
       "      <td>$4,000,000</td>\n",
       "      <td>older man younger woman relationship|lonelines...</td>\n",
       "      <td>Lost in Translation (2003)</td>\n",
       "      <td>Comedy|Drama|Romance</td>\n",
       "      <td>Scarlett Johansson|Bill Murray|Akiko Takeshita...</td>\n",
       "    </tr>\n",
       "    <tr>\n",
       "      <th>4</th>\n",
       "      <td>1</td>\n",
       "      <td>7318</td>\n",
       "      <td>Jim Caviezel|Maia Morgenstern|Christo Jivkov|F...</td>\n",
       "      <td>Benedict Fitzgerald</td>\n",
       "      <td>127.0</td>\n",
       "      <td>$30,000,000</td>\n",
       "      <td>suffering|torture|brutality|whipping</td>\n",
       "      <td>Passion of the Christ, The (2004)</td>\n",
       "      <td>Drama</td>\n",
       "      <td>Jim Caviezel|Maia Morgenstern|Christo Jivkov|F...</td>\n",
       "    </tr>\n",
       "  </tbody>\n",
       "</table>\n",
       "</div>"
      ],
      "text/plain": [
       "   userId  movieId                                         title_cast  \\\n",
       "0       1     2011                                                NaN   \n",
       "1       1     4144  Maggie Cheung|Tony Chiu-Wai Leung|Ping Lam Siu...   \n",
       "2       1     5767                                                NaN   \n",
       "3       1     6711  Scarlett Johansson|Bill Murray|Akiko Takeshita...   \n",
       "4       1     7318  Jim Caviezel|Maia Morgenstern|Christo Jivkov|F...   \n",
       "\n",
       "              director  runtime       budget  \\\n",
       "0                  NaN      NaN          NaN   \n",
       "1         Kar-Wai Wong     98.0          NaN   \n",
       "2                  NaN      NaN          NaN   \n",
       "3        Sofia Coppola    102.0   $4,000,000   \n",
       "4  Benedict Fitzgerald    127.0  $30,000,000   \n",
       "\n",
       "                                       plot_keywords  \\\n",
       "0                                                NaN   \n",
       "1            adultery|loneliness|neighbor|infidelity   \n",
       "2                                                NaN   \n",
       "3  older man younger woman relationship|lonelines...   \n",
       "4               suffering|torture|brutality|whipping   \n",
       "\n",
       "                                           title                   genres  \\\n",
       "0              Back to the Future Part II (1989)  Adventure|Comedy|Sci-Fi   \n",
       "1  In the Mood For Love (Fa yeung nin wa) (2000)            Drama|Romance   \n",
       "2                        Teddy Bear (Mis) (1981)             Comedy|Crime   \n",
       "3                     Lost in Translation (2003)     Comedy|Drama|Romance   \n",
       "4              Passion of the Christ, The (2004)                    Drama   \n",
       "\n",
       "                                           key_words  \n",
       "0                            Adventure|Comedy|Sci-Fi  \n",
       "1  Maggie Cheung|Tony Chiu-Wai Leung|Ping Lam Siu...  \n",
       "2                                       Comedy|Crime  \n",
       "3  Scarlett Johansson|Bill Murray|Akiko Takeshita...  \n",
       "4  Jim Caviezel|Maia Morgenstern|Christo Jivkov|F...  "
      ]
     },
     "execution_count": 31,
     "metadata": {},
     "output_type": "execute_result"
    }
   ],
   "source": [
    "# Merge the columns listed above into a new column named key_words fot the test data\n",
    "test['key_words'] = (pd.Series(test[['title_cast', 'director', 'plot_keywords', 'genres']].fillna('')\n",
    "                      .values.tolist()).str.join(' '))\n",
    "test.head()"
   ]
  },
  {
   "cell_type": "code",
   "execution_count": 32,
   "id": "3eaada7d",
   "metadata": {},
   "outputs": [
    {
     "name": "stdout",
     "output_type": "stream",
     "text": [
      " There are 0 numbers of NaN values in the test keywords column\n"
     ]
    }
   ],
   "source": [
    "# confrim the absense of NaN value in the key_word column for the test data\n",
    "nan = test['key_words'].isna().sum()\n",
    "print(f' There are {nan} numbers of NaN values in the test keywords column')"
   ]
  },
  {
   "cell_type": "markdown",
   "id": "cee57e09",
   "metadata": {},
   "source": [
    "#### Droping of colunms not needed\n",
    "\n",
    "Going forward, we drop colunms we have considered not realy important for the task at hand. The columns are listed below:\n",
    "- runtime\n",
    "- budget\n",
    "- timestamp\n",
    "- title_cast\n",
    "- director\n",
    "- plot_keywords \n",
    "- genres'"
   ]
  },
  {
   "cell_type": "code",
   "execution_count": 33,
   "id": "d740bf23",
   "metadata": {},
   "outputs": [
    {
     "data": {
      "text/html": [
       "<div>\n",
       "<style scoped>\n",
       "    .dataframe tbody tr th:only-of-type {\n",
       "        vertical-align: middle;\n",
       "    }\n",
       "\n",
       "    .dataframe tbody tr th {\n",
       "        vertical-align: top;\n",
       "    }\n",
       "\n",
       "    .dataframe thead th {\n",
       "        text-align: right;\n",
       "    }\n",
       "</style>\n",
       "<table border=\"1\" class=\"dataframe\">\n",
       "  <thead>\n",
       "    <tr style=\"text-align: right;\">\n",
       "      <th></th>\n",
       "      <th>userId</th>\n",
       "      <th>movieId</th>\n",
       "      <th>rating</th>\n",
       "      <th>title</th>\n",
       "      <th>key_words</th>\n",
       "    </tr>\n",
       "  </thead>\n",
       "  <tbody>\n",
       "    <tr>\n",
       "      <th>0</th>\n",
       "      <td>1</td>\n",
       "      <td>296</td>\n",
       "      <td>5.0</td>\n",
       "      <td>Pulp Fiction (1994)</td>\n",
       "      <td>Tim Roth|Amanda Plummer|Laura Lovelace|John Tr...</td>\n",
       "    </tr>\n",
       "    <tr>\n",
       "      <th>1</th>\n",
       "      <td>1</td>\n",
       "      <td>27721</td>\n",
       "      <td>3.0</td>\n",
       "      <td>Very Long Engagement, A (Un long dimanche de f...</td>\n",
       "      <td>Audrey Tautou|Gaspard Ulliel|Dominique Pinon|C...</td>\n",
       "    </tr>\n",
       "    <tr>\n",
       "      <th>2</th>\n",
       "      <td>1</td>\n",
       "      <td>665</td>\n",
       "      <td>5.0</td>\n",
       "      <td>Underground (1995)</td>\n",
       "      <td>Predrag 'Miki' Manojlovic|Lazar Ristovski|Mirj...</td>\n",
       "    </tr>\n",
       "    <tr>\n",
       "      <th>3</th>\n",
       "      <td>1</td>\n",
       "      <td>4308</td>\n",
       "      <td>3.0</td>\n",
       "      <td>Moulin Rouge (2001)</td>\n",
       "      <td>Nicole Kidman|Ewan McGregor|John Leguizamo|Jim...</td>\n",
       "    </tr>\n",
       "    <tr>\n",
       "      <th>4</th>\n",
       "      <td>1</td>\n",
       "      <td>1250</td>\n",
       "      <td>4.0</td>\n",
       "      <td>Bridge on the River Kwai, The (1957)</td>\n",
       "      <td>Adventure|Drama|War</td>\n",
       "    </tr>\n",
       "  </tbody>\n",
       "</table>\n",
       "</div>"
      ],
      "text/plain": [
       "   userId  movieId  rating                                              title  \\\n",
       "0       1      296     5.0                                Pulp Fiction (1994)   \n",
       "1       1    27721     3.0  Very Long Engagement, A (Un long dimanche de f...   \n",
       "2       1      665     5.0                                 Underground (1995)   \n",
       "3       1     4308     3.0                                Moulin Rouge (2001)   \n",
       "4       1     1250     4.0               Bridge on the River Kwai, The (1957)   \n",
       "\n",
       "                                           key_words  \n",
       "0  Tim Roth|Amanda Plummer|Laura Lovelace|John Tr...  \n",
       "1  Audrey Tautou|Gaspard Ulliel|Dominique Pinon|C...  \n",
       "2  Predrag 'Miki' Manojlovic|Lazar Ristovski|Mirj...  \n",
       "3  Nicole Kidman|Ewan McGregor|John Leguizamo|Jim...  \n",
       "4                                Adventure|Drama|War  "
      ]
     },
     "execution_count": 33,
     "metadata": {},
     "output_type": "execute_result"
    }
   ],
   "source": [
    "# Drop the above listed columns in the train data\n",
    "useful_train.drop(columns=['timestamp', 'runtime', 'budget', 'title_cast', 'director', \n",
    "                           'plot_keywords','genres'], inplace= True)\n",
    "useful_train.head()"
   ]
  },
  {
   "cell_type": "code",
   "execution_count": 34,
   "id": "49bc15c0",
   "metadata": {},
   "outputs": [
    {
     "data": {
      "text/html": [
       "<div>\n",
       "<style scoped>\n",
       "    .dataframe tbody tr th:only-of-type {\n",
       "        vertical-align: middle;\n",
       "    }\n",
       "\n",
       "    .dataframe tbody tr th {\n",
       "        vertical-align: top;\n",
       "    }\n",
       "\n",
       "    .dataframe thead th {\n",
       "        text-align: right;\n",
       "    }\n",
       "</style>\n",
       "<table border=\"1\" class=\"dataframe\">\n",
       "  <thead>\n",
       "    <tr style=\"text-align: right;\">\n",
       "      <th></th>\n",
       "      <th>userId</th>\n",
       "      <th>movieId</th>\n",
       "      <th>title</th>\n",
       "      <th>key_words</th>\n",
       "    </tr>\n",
       "  </thead>\n",
       "  <tbody>\n",
       "    <tr>\n",
       "      <th>0</th>\n",
       "      <td>1</td>\n",
       "      <td>2011</td>\n",
       "      <td>Back to the Future Part II (1989)</td>\n",
       "      <td>Adventure|Comedy|Sci-Fi</td>\n",
       "    </tr>\n",
       "    <tr>\n",
       "      <th>1</th>\n",
       "      <td>1</td>\n",
       "      <td>4144</td>\n",
       "      <td>In the Mood For Love (Fa yeung nin wa) (2000)</td>\n",
       "      <td>Maggie Cheung|Tony Chiu-Wai Leung|Ping Lam Siu...</td>\n",
       "    </tr>\n",
       "    <tr>\n",
       "      <th>2</th>\n",
       "      <td>1</td>\n",
       "      <td>5767</td>\n",
       "      <td>Teddy Bear (Mis) (1981)</td>\n",
       "      <td>Comedy|Crime</td>\n",
       "    </tr>\n",
       "    <tr>\n",
       "      <th>3</th>\n",
       "      <td>1</td>\n",
       "      <td>6711</td>\n",
       "      <td>Lost in Translation (2003)</td>\n",
       "      <td>Scarlett Johansson|Bill Murray|Akiko Takeshita...</td>\n",
       "    </tr>\n",
       "    <tr>\n",
       "      <th>4</th>\n",
       "      <td>1</td>\n",
       "      <td>7318</td>\n",
       "      <td>Passion of the Christ, The (2004)</td>\n",
       "      <td>Jim Caviezel|Maia Morgenstern|Christo Jivkov|F...</td>\n",
       "    </tr>\n",
       "  </tbody>\n",
       "</table>\n",
       "</div>"
      ],
      "text/plain": [
       "   userId  movieId                                          title  \\\n",
       "0       1     2011              Back to the Future Part II (1989)   \n",
       "1       1     4144  In the Mood For Love (Fa yeung nin wa) (2000)   \n",
       "2       1     5767                        Teddy Bear (Mis) (1981)   \n",
       "3       1     6711                     Lost in Translation (2003)   \n",
       "4       1     7318              Passion of the Christ, The (2004)   \n",
       "\n",
       "                                           key_words  \n",
       "0                            Adventure|Comedy|Sci-Fi  \n",
       "1  Maggie Cheung|Tony Chiu-Wai Leung|Ping Lam Siu...  \n",
       "2                                       Comedy|Crime  \n",
       "3  Scarlett Johansson|Bill Murray|Akiko Takeshita...  \n",
       "4  Jim Caviezel|Maia Morgenstern|Christo Jivkov|F...  "
      ]
     },
     "execution_count": 34,
     "metadata": {},
     "output_type": "execute_result"
    }
   ],
   "source": [
    "# Drop the above listed columns in the test data\n",
    "test.drop(columns=['runtime', 'budget', 'title_cast', 'director', \n",
    "                           'plot_keywords','genres'], inplace= True)\n",
    "test.head()"
   ]
  },
  {
   "cell_type": "markdown",
   "id": "e1df69d0",
   "metadata": {},
   "source": [
    "#### Data Formating\n",
    "\n",
    "As can be seen in the title and key_words colunm, each enity are separated by a **|**, **(** and **)**, and this character which is a separator(delimiter) if left with the data, will affect the accuracy of our model, hence needs to be removed. \n",
    "\n",
    "To achieve this, we write a function called splitter, to operate on both the train and test dataset. "
   ]
  },
  {
   "cell_type": "code",
   "execution_count": 35,
   "id": "e2ad78bc",
   "metadata": {},
   "outputs": [],
   "source": [
    "# Remove delimeters(Separators) from string data\n",
    "def splitter(df, col_list, delim, separator= ' '):\n",
    "    \"\"\"\n",
    "        This function accepts a dataframe(df) and a list of columns(col_list), which contains the delimiter\n",
    "        to be removed, it also accepts the delimiter which is to be removed\n",
    "    \"\"\"\n",
    "    new_df = df.copy()\n",
    "    \n",
    "    for col in col_list:\n",
    "        new_df[col] = new_df[col].str.split(delim).str.join(separator)\n",
    "    \n",
    "    return new_df"
   ]
  },
  {
   "cell_type": "markdown",
   "id": "d63f110a",
   "metadata": {},
   "source": [
    "#### Format Train Dataset"
   ]
  },
  {
   "cell_type": "code",
   "execution_count": 36,
   "id": "eb8b119f",
   "metadata": {},
   "outputs": [
    {
     "data": {
      "text/html": [
       "<div>\n",
       "<style scoped>\n",
       "    .dataframe tbody tr th:only-of-type {\n",
       "        vertical-align: middle;\n",
       "    }\n",
       "\n",
       "    .dataframe tbody tr th {\n",
       "        vertical-align: top;\n",
       "    }\n",
       "\n",
       "    .dataframe thead th {\n",
       "        text-align: right;\n",
       "    }\n",
       "</style>\n",
       "<table border=\"1\" class=\"dataframe\">\n",
       "  <thead>\n",
       "    <tr style=\"text-align: right;\">\n",
       "      <th></th>\n",
       "      <th>userId</th>\n",
       "      <th>movieId</th>\n",
       "      <th>rating</th>\n",
       "      <th>title</th>\n",
       "      <th>key_words</th>\n",
       "    </tr>\n",
       "  </thead>\n",
       "  <tbody>\n",
       "    <tr>\n",
       "      <th>0</th>\n",
       "      <td>1</td>\n",
       "      <td>296</td>\n",
       "      <td>5.0</td>\n",
       "      <td>Pulp Fiction 1994)</td>\n",
       "      <td>Tim Roth|Amanda Plummer|Laura Lovelace|John Tr...</td>\n",
       "    </tr>\n",
       "    <tr>\n",
       "      <th>1</th>\n",
       "      <td>1</td>\n",
       "      <td>27721</td>\n",
       "      <td>3.0</td>\n",
       "      <td>Very Long Engagement, A Un long dimanche de fi...</td>\n",
       "      <td>Audrey Tautou|Gaspard Ulliel|Dominique Pinon|C...</td>\n",
       "    </tr>\n",
       "    <tr>\n",
       "      <th>2</th>\n",
       "      <td>1</td>\n",
       "      <td>665</td>\n",
       "      <td>5.0</td>\n",
       "      <td>Underground 1995)</td>\n",
       "      <td>Predrag 'Miki' Manojlovic|Lazar Ristovski|Mirj...</td>\n",
       "    </tr>\n",
       "    <tr>\n",
       "      <th>3</th>\n",
       "      <td>1</td>\n",
       "      <td>4308</td>\n",
       "      <td>3.0</td>\n",
       "      <td>Moulin Rouge 2001)</td>\n",
       "      <td>Nicole Kidman|Ewan McGregor|John Leguizamo|Jim...</td>\n",
       "    </tr>\n",
       "    <tr>\n",
       "      <th>4</th>\n",
       "      <td>1</td>\n",
       "      <td>1250</td>\n",
       "      <td>4.0</td>\n",
       "      <td>Bridge on the River Kwai, The 1957)</td>\n",
       "      <td>Adventure|Drama|War</td>\n",
       "    </tr>\n",
       "  </tbody>\n",
       "</table>\n",
       "</div>"
      ],
      "text/plain": [
       "   userId  movieId  rating                                              title  \\\n",
       "0       1      296     5.0                                 Pulp Fiction 1994)   \n",
       "1       1    27721     3.0  Very Long Engagement, A Un long dimanche de fi...   \n",
       "2       1      665     5.0                                  Underground 1995)   \n",
       "3       1     4308     3.0                                 Moulin Rouge 2001)   \n",
       "4       1     1250     4.0                Bridge on the River Kwai, The 1957)   \n",
       "\n",
       "                                           key_words  \n",
       "0  Tim Roth|Amanda Plummer|Laura Lovelace|John Tr...  \n",
       "1  Audrey Tautou|Gaspard Ulliel|Dominique Pinon|C...  \n",
       "2  Predrag 'Miki' Manojlovic|Lazar Ristovski|Mirj...  \n",
       "3  Nicole Kidman|Ewan McGregor|John Leguizamo|Jim...  \n",
       "4                                Adventure|Drama|War  "
      ]
     },
     "execution_count": 36,
     "metadata": {},
     "output_type": "execute_result"
    }
   ],
   "source": [
    "# Remove Opening brackets separating title of movies and year \n",
    "useful_train = splitter(useful_train, ['title'], '(', '')\n",
    "useful_train.head()"
   ]
  },
  {
   "cell_type": "code",
   "execution_count": 37,
   "id": "9a4ba230",
   "metadata": {},
   "outputs": [
    {
     "data": {
      "text/html": [
       "<div>\n",
       "<style scoped>\n",
       "    .dataframe tbody tr th:only-of-type {\n",
       "        vertical-align: middle;\n",
       "    }\n",
       "\n",
       "    .dataframe tbody tr th {\n",
       "        vertical-align: top;\n",
       "    }\n",
       "\n",
       "    .dataframe thead th {\n",
       "        text-align: right;\n",
       "    }\n",
       "</style>\n",
       "<table border=\"1\" class=\"dataframe\">\n",
       "  <thead>\n",
       "    <tr style=\"text-align: right;\">\n",
       "      <th></th>\n",
       "      <th>userId</th>\n",
       "      <th>movieId</th>\n",
       "      <th>rating</th>\n",
       "      <th>title</th>\n",
       "      <th>key_words</th>\n",
       "    </tr>\n",
       "  </thead>\n",
       "  <tbody>\n",
       "    <tr>\n",
       "      <th>0</th>\n",
       "      <td>1</td>\n",
       "      <td>296</td>\n",
       "      <td>5.0</td>\n",
       "      <td>Pulp Fiction 1994</td>\n",
       "      <td>Tim Roth|Amanda Plummer|Laura Lovelace|John Tr...</td>\n",
       "    </tr>\n",
       "    <tr>\n",
       "      <th>1</th>\n",
       "      <td>1</td>\n",
       "      <td>27721</td>\n",
       "      <td>3.0</td>\n",
       "      <td>Very Long Engagement, A Un long dimanche de fi...</td>\n",
       "      <td>Audrey Tautou|Gaspard Ulliel|Dominique Pinon|C...</td>\n",
       "    </tr>\n",
       "    <tr>\n",
       "      <th>2</th>\n",
       "      <td>1</td>\n",
       "      <td>665</td>\n",
       "      <td>5.0</td>\n",
       "      <td>Underground 1995</td>\n",
       "      <td>Predrag 'Miki' Manojlovic|Lazar Ristovski|Mirj...</td>\n",
       "    </tr>\n",
       "    <tr>\n",
       "      <th>3</th>\n",
       "      <td>1</td>\n",
       "      <td>4308</td>\n",
       "      <td>3.0</td>\n",
       "      <td>Moulin Rouge 2001</td>\n",
       "      <td>Nicole Kidman|Ewan McGregor|John Leguizamo|Jim...</td>\n",
       "    </tr>\n",
       "    <tr>\n",
       "      <th>4</th>\n",
       "      <td>1</td>\n",
       "      <td>1250</td>\n",
       "      <td>4.0</td>\n",
       "      <td>Bridge on the River Kwai, The 1957</td>\n",
       "      <td>Adventure|Drama|War</td>\n",
       "    </tr>\n",
       "  </tbody>\n",
       "</table>\n",
       "</div>"
      ],
      "text/plain": [
       "   userId  movieId  rating                                              title  \\\n",
       "0       1      296     5.0                                  Pulp Fiction 1994   \n",
       "1       1    27721     3.0  Very Long Engagement, A Un long dimanche de fi...   \n",
       "2       1      665     5.0                                   Underground 1995   \n",
       "3       1     4308     3.0                                  Moulin Rouge 2001   \n",
       "4       1     1250     4.0                 Bridge on the River Kwai, The 1957   \n",
       "\n",
       "                                           key_words  \n",
       "0  Tim Roth|Amanda Plummer|Laura Lovelace|John Tr...  \n",
       "1  Audrey Tautou|Gaspard Ulliel|Dominique Pinon|C...  \n",
       "2  Predrag 'Miki' Manojlovic|Lazar Ristovski|Mirj...  \n",
       "3  Nicole Kidman|Ewan McGregor|John Leguizamo|Jim...  \n",
       "4                                Adventure|Drama|War  "
      ]
     },
     "execution_count": 37,
     "metadata": {},
     "output_type": "execute_result"
    }
   ],
   "source": [
    "# Remove close brackets separating title of movies and year \n",
    "useful_train = splitter(useful_train, ['title'], ')','')\n",
    "useful_train.head()"
   ]
  },
  {
   "cell_type": "code",
   "execution_count": 38,
   "id": "070aefa2",
   "metadata": {},
   "outputs": [
    {
     "data": {
      "text/html": [
       "<div>\n",
       "<style scoped>\n",
       "    .dataframe tbody tr th:only-of-type {\n",
       "        vertical-align: middle;\n",
       "    }\n",
       "\n",
       "    .dataframe tbody tr th {\n",
       "        vertical-align: top;\n",
       "    }\n",
       "\n",
       "    .dataframe thead th {\n",
       "        text-align: right;\n",
       "    }\n",
       "</style>\n",
       "<table border=\"1\" class=\"dataframe\">\n",
       "  <thead>\n",
       "    <tr style=\"text-align: right;\">\n",
       "      <th></th>\n",
       "      <th>userId</th>\n",
       "      <th>movieId</th>\n",
       "      <th>rating</th>\n",
       "      <th>title</th>\n",
       "      <th>key_words</th>\n",
       "    </tr>\n",
       "  </thead>\n",
       "  <tbody>\n",
       "    <tr>\n",
       "      <th>0</th>\n",
       "      <td>1</td>\n",
       "      <td>296</td>\n",
       "      <td>5.0</td>\n",
       "      <td>Pulp Fiction 1994</td>\n",
       "      <td>Tim Roth Amanda Plummer Laura Lovelace John Tr...</td>\n",
       "    </tr>\n",
       "    <tr>\n",
       "      <th>1</th>\n",
       "      <td>1</td>\n",
       "      <td>27721</td>\n",
       "      <td>3.0</td>\n",
       "      <td>Very Long Engagement, A Un long dimanche de fi...</td>\n",
       "      <td>Audrey Tautou Gaspard Ulliel Dominique Pinon C...</td>\n",
       "    </tr>\n",
       "    <tr>\n",
       "      <th>2</th>\n",
       "      <td>1</td>\n",
       "      <td>665</td>\n",
       "      <td>5.0</td>\n",
       "      <td>Underground 1995</td>\n",
       "      <td>Predrag 'Miki' Manojlovic Lazar Ristovski Mirj...</td>\n",
       "    </tr>\n",
       "    <tr>\n",
       "      <th>3</th>\n",
       "      <td>1</td>\n",
       "      <td>4308</td>\n",
       "      <td>3.0</td>\n",
       "      <td>Moulin Rouge 2001</td>\n",
       "      <td>Nicole Kidman Ewan McGregor John Leguizamo Jim...</td>\n",
       "    </tr>\n",
       "    <tr>\n",
       "      <th>4</th>\n",
       "      <td>1</td>\n",
       "      <td>1250</td>\n",
       "      <td>4.0</td>\n",
       "      <td>Bridge on the River Kwai, The 1957</td>\n",
       "      <td>Adventure Drama War</td>\n",
       "    </tr>\n",
       "  </tbody>\n",
       "</table>\n",
       "</div>"
      ],
      "text/plain": [
       "   userId  movieId  rating                                              title  \\\n",
       "0       1      296     5.0                                  Pulp Fiction 1994   \n",
       "1       1    27721     3.0  Very Long Engagement, A Un long dimanche de fi...   \n",
       "2       1      665     5.0                                   Underground 1995   \n",
       "3       1     4308     3.0                                  Moulin Rouge 2001   \n",
       "4       1     1250     4.0                 Bridge on the River Kwai, The 1957   \n",
       "\n",
       "                                           key_words  \n",
       "0  Tim Roth Amanda Plummer Laura Lovelace John Tr...  \n",
       "1  Audrey Tautou Gaspard Ulliel Dominique Pinon C...  \n",
       "2  Predrag 'Miki' Manojlovic Lazar Ristovski Mirj...  \n",
       "3  Nicole Kidman Ewan McGregor John Leguizamo Jim...  \n",
       "4                                Adventure Drama War  "
      ]
     },
     "execution_count": 38,
     "metadata": {},
     "output_type": "execute_result"
    }
   ],
   "source": [
    "# Remove delimeter from key_words colunm in train data\n",
    "useful_train = splitter(useful_train, ['key_words'], '|')\n",
    "useful_train.head()"
   ]
  },
  {
   "cell_type": "markdown",
   "id": "d4be00d3",
   "metadata": {},
   "source": [
    "#### Format Test Dataset"
   ]
  },
  {
   "cell_type": "code",
   "execution_count": 39,
   "id": "9503c0bf",
   "metadata": {},
   "outputs": [
    {
     "data": {
      "text/html": [
       "<div>\n",
       "<style scoped>\n",
       "    .dataframe tbody tr th:only-of-type {\n",
       "        vertical-align: middle;\n",
       "    }\n",
       "\n",
       "    .dataframe tbody tr th {\n",
       "        vertical-align: top;\n",
       "    }\n",
       "\n",
       "    .dataframe thead th {\n",
       "        text-align: right;\n",
       "    }\n",
       "</style>\n",
       "<table border=\"1\" class=\"dataframe\">\n",
       "  <thead>\n",
       "    <tr style=\"text-align: right;\">\n",
       "      <th></th>\n",
       "      <th>userId</th>\n",
       "      <th>movieId</th>\n",
       "      <th>title</th>\n",
       "      <th>key_words</th>\n",
       "    </tr>\n",
       "  </thead>\n",
       "  <tbody>\n",
       "    <tr>\n",
       "      <th>0</th>\n",
       "      <td>1</td>\n",
       "      <td>2011</td>\n",
       "      <td>Back to the Future Part II 1989)</td>\n",
       "      <td>Adventure|Comedy|Sci-Fi</td>\n",
       "    </tr>\n",
       "    <tr>\n",
       "      <th>1</th>\n",
       "      <td>1</td>\n",
       "      <td>4144</td>\n",
       "      <td>In the Mood For Love Fa yeung nin wa) 2000)</td>\n",
       "      <td>Maggie Cheung|Tony Chiu-Wai Leung|Ping Lam Siu...</td>\n",
       "    </tr>\n",
       "    <tr>\n",
       "      <th>2</th>\n",
       "      <td>1</td>\n",
       "      <td>5767</td>\n",
       "      <td>Teddy Bear Mis) 1981)</td>\n",
       "      <td>Comedy|Crime</td>\n",
       "    </tr>\n",
       "    <tr>\n",
       "      <th>3</th>\n",
       "      <td>1</td>\n",
       "      <td>6711</td>\n",
       "      <td>Lost in Translation 2003)</td>\n",
       "      <td>Scarlett Johansson|Bill Murray|Akiko Takeshita...</td>\n",
       "    </tr>\n",
       "    <tr>\n",
       "      <th>4</th>\n",
       "      <td>1</td>\n",
       "      <td>7318</td>\n",
       "      <td>Passion of the Christ, The 2004)</td>\n",
       "      <td>Jim Caviezel|Maia Morgenstern|Christo Jivkov|F...</td>\n",
       "    </tr>\n",
       "  </tbody>\n",
       "</table>\n",
       "</div>"
      ],
      "text/plain": [
       "   userId  movieId                                        title  \\\n",
       "0       1     2011             Back to the Future Part II 1989)   \n",
       "1       1     4144  In the Mood For Love Fa yeung nin wa) 2000)   \n",
       "2       1     5767                        Teddy Bear Mis) 1981)   \n",
       "3       1     6711                    Lost in Translation 2003)   \n",
       "4       1     7318             Passion of the Christ, The 2004)   \n",
       "\n",
       "                                           key_words  \n",
       "0                            Adventure|Comedy|Sci-Fi  \n",
       "1  Maggie Cheung|Tony Chiu-Wai Leung|Ping Lam Siu...  \n",
       "2                                       Comedy|Crime  \n",
       "3  Scarlett Johansson|Bill Murray|Akiko Takeshita...  \n",
       "4  Jim Caviezel|Maia Morgenstern|Christo Jivkov|F...  "
      ]
     },
     "execution_count": 39,
     "metadata": {},
     "output_type": "execute_result"
    }
   ],
   "source": [
    "# Remove Opening brackets separating title of movies and year \n",
    "test = splitter(test, ['title'], '(', '')\n",
    "test.head()"
   ]
  },
  {
   "cell_type": "code",
   "execution_count": 40,
   "id": "53c37fc1",
   "metadata": {},
   "outputs": [
    {
     "data": {
      "text/html": [
       "<div>\n",
       "<style scoped>\n",
       "    .dataframe tbody tr th:only-of-type {\n",
       "        vertical-align: middle;\n",
       "    }\n",
       "\n",
       "    .dataframe tbody tr th {\n",
       "        vertical-align: top;\n",
       "    }\n",
       "\n",
       "    .dataframe thead th {\n",
       "        text-align: right;\n",
       "    }\n",
       "</style>\n",
       "<table border=\"1\" class=\"dataframe\">\n",
       "  <thead>\n",
       "    <tr style=\"text-align: right;\">\n",
       "      <th></th>\n",
       "      <th>userId</th>\n",
       "      <th>movieId</th>\n",
       "      <th>title</th>\n",
       "      <th>key_words</th>\n",
       "    </tr>\n",
       "  </thead>\n",
       "  <tbody>\n",
       "    <tr>\n",
       "      <th>0</th>\n",
       "      <td>1</td>\n",
       "      <td>2011</td>\n",
       "      <td>Back to the Future Part II 1989</td>\n",
       "      <td>Adventure|Comedy|Sci-Fi</td>\n",
       "    </tr>\n",
       "    <tr>\n",
       "      <th>1</th>\n",
       "      <td>1</td>\n",
       "      <td>4144</td>\n",
       "      <td>In the Mood For Love Fa yeung nin wa 2000</td>\n",
       "      <td>Maggie Cheung|Tony Chiu-Wai Leung|Ping Lam Siu...</td>\n",
       "    </tr>\n",
       "    <tr>\n",
       "      <th>2</th>\n",
       "      <td>1</td>\n",
       "      <td>5767</td>\n",
       "      <td>Teddy Bear Mis 1981</td>\n",
       "      <td>Comedy|Crime</td>\n",
       "    </tr>\n",
       "    <tr>\n",
       "      <th>3</th>\n",
       "      <td>1</td>\n",
       "      <td>6711</td>\n",
       "      <td>Lost in Translation 2003</td>\n",
       "      <td>Scarlett Johansson|Bill Murray|Akiko Takeshita...</td>\n",
       "    </tr>\n",
       "    <tr>\n",
       "      <th>4</th>\n",
       "      <td>1</td>\n",
       "      <td>7318</td>\n",
       "      <td>Passion of the Christ, The 2004</td>\n",
       "      <td>Jim Caviezel|Maia Morgenstern|Christo Jivkov|F...</td>\n",
       "    </tr>\n",
       "  </tbody>\n",
       "</table>\n",
       "</div>"
      ],
      "text/plain": [
       "   userId  movieId                                      title  \\\n",
       "0       1     2011            Back to the Future Part II 1989   \n",
       "1       1     4144  In the Mood For Love Fa yeung nin wa 2000   \n",
       "2       1     5767                        Teddy Bear Mis 1981   \n",
       "3       1     6711                   Lost in Translation 2003   \n",
       "4       1     7318            Passion of the Christ, The 2004   \n",
       "\n",
       "                                           key_words  \n",
       "0                            Adventure|Comedy|Sci-Fi  \n",
       "1  Maggie Cheung|Tony Chiu-Wai Leung|Ping Lam Siu...  \n",
       "2                                       Comedy|Crime  \n",
       "3  Scarlett Johansson|Bill Murray|Akiko Takeshita...  \n",
       "4  Jim Caviezel|Maia Morgenstern|Christo Jivkov|F...  "
      ]
     },
     "execution_count": 40,
     "metadata": {},
     "output_type": "execute_result"
    }
   ],
   "source": [
    "# Remove Opening brackets separating title of movies and year \n",
    "test = splitter(test, ['title'], ')', '')\n",
    "test.head()"
   ]
  },
  {
   "cell_type": "code",
   "execution_count": 41,
   "id": "7cd7a324",
   "metadata": {},
   "outputs": [
    {
     "data": {
      "text/html": [
       "<div>\n",
       "<style scoped>\n",
       "    .dataframe tbody tr th:only-of-type {\n",
       "        vertical-align: middle;\n",
       "    }\n",
       "\n",
       "    .dataframe tbody tr th {\n",
       "        vertical-align: top;\n",
       "    }\n",
       "\n",
       "    .dataframe thead th {\n",
       "        text-align: right;\n",
       "    }\n",
       "</style>\n",
       "<table border=\"1\" class=\"dataframe\">\n",
       "  <thead>\n",
       "    <tr style=\"text-align: right;\">\n",
       "      <th></th>\n",
       "      <th>userId</th>\n",
       "      <th>movieId</th>\n",
       "      <th>title</th>\n",
       "      <th>key_words</th>\n",
       "    </tr>\n",
       "  </thead>\n",
       "  <tbody>\n",
       "    <tr>\n",
       "      <th>0</th>\n",
       "      <td>1</td>\n",
       "      <td>2011</td>\n",
       "      <td>Back to the Future Part II 1989</td>\n",
       "      <td>Adventure Comedy Sci-Fi</td>\n",
       "    </tr>\n",
       "    <tr>\n",
       "      <th>1</th>\n",
       "      <td>1</td>\n",
       "      <td>4144</td>\n",
       "      <td>In the Mood For Love Fa yeung nin wa 2000</td>\n",
       "      <td>Maggie Cheung Tony Chiu-Wai Leung Ping Lam Siu...</td>\n",
       "    </tr>\n",
       "    <tr>\n",
       "      <th>2</th>\n",
       "      <td>1</td>\n",
       "      <td>5767</td>\n",
       "      <td>Teddy Bear Mis 1981</td>\n",
       "      <td>Comedy Crime</td>\n",
       "    </tr>\n",
       "    <tr>\n",
       "      <th>3</th>\n",
       "      <td>1</td>\n",
       "      <td>6711</td>\n",
       "      <td>Lost in Translation 2003</td>\n",
       "      <td>Scarlett Johansson Bill Murray Akiko Takeshita...</td>\n",
       "    </tr>\n",
       "    <tr>\n",
       "      <th>4</th>\n",
       "      <td>1</td>\n",
       "      <td>7318</td>\n",
       "      <td>Passion of the Christ, The 2004</td>\n",
       "      <td>Jim Caviezel Maia Morgenstern Christo Jivkov F...</td>\n",
       "    </tr>\n",
       "  </tbody>\n",
       "</table>\n",
       "</div>"
      ],
      "text/plain": [
       "   userId  movieId                                      title  \\\n",
       "0       1     2011            Back to the Future Part II 1989   \n",
       "1       1     4144  In the Mood For Love Fa yeung nin wa 2000   \n",
       "2       1     5767                        Teddy Bear Mis 1981   \n",
       "3       1     6711                   Lost in Translation 2003   \n",
       "4       1     7318            Passion of the Christ, The 2004   \n",
       "\n",
       "                                           key_words  \n",
       "0                            Adventure Comedy Sci-Fi  \n",
       "1  Maggie Cheung Tony Chiu-Wai Leung Ping Lam Siu...  \n",
       "2                                       Comedy Crime  \n",
       "3  Scarlett Johansson Bill Murray Akiko Takeshita...  \n",
       "4  Jim Caviezel Maia Morgenstern Christo Jivkov F...  "
      ]
     },
     "execution_count": 41,
     "metadata": {},
     "output_type": "execute_result"
    }
   ],
   "source": [
    "# Remove delimeter from key_words colunm in test data\n",
    "test = splitter(test, ['key_words'], '|')\n",
    "test.head()"
   ]
  },
  {
   "cell_type": "markdown",
   "id": "3e2df986",
   "metadata": {},
   "source": [
    "#### Merge title to key_words column"
   ]
  },
  {
   "cell_type": "code",
   "execution_count": 42,
   "id": "5349e31e",
   "metadata": {},
   "outputs": [
    {
     "data": {
      "text/html": [
       "<div>\n",
       "<style scoped>\n",
       "    .dataframe tbody tr th:only-of-type {\n",
       "        vertical-align: middle;\n",
       "    }\n",
       "\n",
       "    .dataframe tbody tr th {\n",
       "        vertical-align: top;\n",
       "    }\n",
       "\n",
       "    .dataframe thead th {\n",
       "        text-align: right;\n",
       "    }\n",
       "</style>\n",
       "<table border=\"1\" class=\"dataframe\">\n",
       "  <thead>\n",
       "    <tr style=\"text-align: right;\">\n",
       "      <th></th>\n",
       "      <th>userId</th>\n",
       "      <th>movieId</th>\n",
       "      <th>key_words</th>\n",
       "    </tr>\n",
       "  </thead>\n",
       "  <tbody>\n",
       "    <tr>\n",
       "      <th>0</th>\n",
       "      <td>1</td>\n",
       "      <td>2011</td>\n",
       "      <td>Back to the Future Part II 1989    Adventure C...</td>\n",
       "    </tr>\n",
       "    <tr>\n",
       "      <th>1</th>\n",
       "      <td>1</td>\n",
       "      <td>4144</td>\n",
       "      <td>In the Mood For Love Fa yeung nin wa 2000 Magg...</td>\n",
       "    </tr>\n",
       "    <tr>\n",
       "      <th>2</th>\n",
       "      <td>1</td>\n",
       "      <td>5767</td>\n",
       "      <td>Teddy Bear Mis 1981    Comedy Crime</td>\n",
       "    </tr>\n",
       "    <tr>\n",
       "      <th>3</th>\n",
       "      <td>1</td>\n",
       "      <td>6711</td>\n",
       "      <td>Lost in Translation 2003 Scarlett Johansson Bi...</td>\n",
       "    </tr>\n",
       "    <tr>\n",
       "      <th>4</th>\n",
       "      <td>1</td>\n",
       "      <td>7318</td>\n",
       "      <td>Passion of the Christ, The 2004 Jim Caviezel M...</td>\n",
       "    </tr>\n",
       "  </tbody>\n",
       "</table>\n",
       "</div>"
      ],
      "text/plain": [
       "   userId  movieId                                          key_words\n",
       "0       1     2011  Back to the Future Part II 1989    Adventure C...\n",
       "1       1     4144  In the Mood For Love Fa yeung nin wa 2000 Magg...\n",
       "2       1     5767                Teddy Bear Mis 1981    Comedy Crime\n",
       "3       1     6711  Lost in Translation 2003 Scarlett Johansson Bi...\n",
       "4       1     7318  Passion of the Christ, The 2004 Jim Caviezel M..."
      ]
     },
     "execution_count": 42,
     "metadata": {},
     "output_type": "execute_result"
    }
   ],
   "source": [
    "# Merge the columns listed above into a new column named key_words fot the test data\n",
    "test['key_words'] = (pd.Series(test[['title', 'key_words']].fillna('')\n",
    "                      .values.tolist()).str.join(' '))\n",
    "\n",
    "# Drop title column\n",
    "test.drop(columns=['title'], inplace=True)\n",
    "test.head()"
   ]
  },
  {
   "cell_type": "code",
   "execution_count": 43,
   "id": "66706a63",
   "metadata": {},
   "outputs": [
    {
     "data": {
      "text/html": [
       "<div>\n",
       "<style scoped>\n",
       "    .dataframe tbody tr th:only-of-type {\n",
       "        vertical-align: middle;\n",
       "    }\n",
       "\n",
       "    .dataframe tbody tr th {\n",
       "        vertical-align: top;\n",
       "    }\n",
       "\n",
       "    .dataframe thead th {\n",
       "        text-align: right;\n",
       "    }\n",
       "</style>\n",
       "<table border=\"1\" class=\"dataframe\">\n",
       "  <thead>\n",
       "    <tr style=\"text-align: right;\">\n",
       "      <th></th>\n",
       "      <th>userId</th>\n",
       "      <th>movieId</th>\n",
       "      <th>rating</th>\n",
       "      <th>key_words</th>\n",
       "    </tr>\n",
       "  </thead>\n",
       "  <tbody>\n",
       "    <tr>\n",
       "      <th>0</th>\n",
       "      <td>1</td>\n",
       "      <td>296</td>\n",
       "      <td>5.0</td>\n",
       "      <td>Pulp Fiction 1994 Tim Roth Amanda Plummer Laur...</td>\n",
       "    </tr>\n",
       "    <tr>\n",
       "      <th>1</th>\n",
       "      <td>1</td>\n",
       "      <td>27721</td>\n",
       "      <td>3.0</td>\n",
       "      <td>Very Long Engagement, A Un long dimanche de fi...</td>\n",
       "    </tr>\n",
       "    <tr>\n",
       "      <th>2</th>\n",
       "      <td>1</td>\n",
       "      <td>665</td>\n",
       "      <td>5.0</td>\n",
       "      <td>Underground 1995 Predrag 'Miki' Manojlovic Laz...</td>\n",
       "    </tr>\n",
       "    <tr>\n",
       "      <th>3</th>\n",
       "      <td>1</td>\n",
       "      <td>4308</td>\n",
       "      <td>3.0</td>\n",
       "      <td>Moulin Rouge 2001 Nicole Kidman Ewan McGregor ...</td>\n",
       "    </tr>\n",
       "    <tr>\n",
       "      <th>4</th>\n",
       "      <td>1</td>\n",
       "      <td>1250</td>\n",
       "      <td>4.0</td>\n",
       "      <td>Bridge on the River Kwai, The 1957    Adventur...</td>\n",
       "    </tr>\n",
       "  </tbody>\n",
       "</table>\n",
       "</div>"
      ],
      "text/plain": [
       "   userId  movieId  rating                                          key_words\n",
       "0       1      296     5.0  Pulp Fiction 1994 Tim Roth Amanda Plummer Laur...\n",
       "1       1    27721     3.0  Very Long Engagement, A Un long dimanche de fi...\n",
       "2       1      665     5.0  Underground 1995 Predrag 'Miki' Manojlovic Laz...\n",
       "3       1     4308     3.0  Moulin Rouge 2001 Nicole Kidman Ewan McGregor ...\n",
       "4       1     1250     4.0  Bridge on the River Kwai, The 1957    Adventur..."
      ]
     },
     "execution_count": 43,
     "metadata": {},
     "output_type": "execute_result"
    }
   ],
   "source": [
    "# Merge the columns listed above into a new column named key_words fot the test data\n",
    "useful_train['key_words'] = (pd.Series(useful_train[['title', 'key_words']].fillna('')\n",
    "                      .values.tolist()).str.join(' '))\n",
    "useful_train.drop(columns=['title'], inplace=True)\n",
    "useful_train.head()"
   ]
  },
  {
   "cell_type": "markdown",
   "id": "d0de24a7",
   "metadata": {},
   "source": [
    "#### Dividing dataset into chunks\n",
    "\n",
    "We shall now proceed to divide both dataset into chunks. The numbers of chunk we have chosen is 162350, which is the numbers of unique userIds we have for both dataset. We do this to enables us save these chunks into local storage system of our machines, fetch these chunks back individualy and separately processing these chunks and making prediction afterwards. This act is necessary because our machines all have limited capacity, which prevents us from processing theses dataset at once.\n",
    "\n"
   ]
  },
  {
   "cell_type": "code",
   "execution_count": 44,
   "id": "7f0dd369",
   "metadata": {},
   "outputs": [],
   "source": [
    "# A function that generate a list of chunks\n",
    "def create_chunk_list(df, col_ref, col_val):\n",
    "    \"\"\"\n",
    "        This function accepts a dataframe, the dataframe column and the colunm value to filter by\n",
    "        It returns a new dataframe, which is a datframe where the reference column matches the passed column value.\n",
    "    \"\"\"\n",
    "    new_df = df[df[col_ref] == col_val]\n",
    "        \n",
    "    return new_df\n",
    "            "
   ]
  },
  {
   "cell_type": "markdown",
   "id": "48831549",
   "metadata": {},
   "source": [
    "#### Collection of unique userIds\n",
    "\n",
    "As can be observed from our work so far, the userId are not ordered numerically, hence, there is need to collect these userIds into a list, which we use as the extensions to the chunks to be created."
   ]
  },
  {
   "cell_type": "code",
   "execution_count": 45,
   "id": "1f5d185e",
   "metadata": {},
   "outputs": [
    {
     "name": "stdout",
     "output_type": "stream",
     "text": [
      "The total numbers of extensions is:  162350\n"
     ]
    }
   ],
   "source": [
    "extentions = test['userId'].unique().tolist()\n",
    "\n",
    "print('The total numbers of extensions is: ', len(extentions))"
   ]
  },
  {
   "cell_type": "code",
   "execution_count": 46,
   "id": "0ac71644",
   "metadata": {},
   "outputs": [
    {
     "data": {
      "text/plain": [
       "[1, 2, 3, 4, 5, 6, 7, 8, 9, 10]"
      ]
     },
     "execution_count": 46,
     "metadata": {},
     "output_type": "execute_result"
    }
   ],
   "source": [
    "extentions[:10]"
   ]
  },
  {
   "cell_type": "markdown",
   "id": "cd10f5e7",
   "metadata": {},
   "source": [
    "### RUN ONCE\n",
    "\n",
    "The below cells generates chunks of both prepared train datasets and test datasets. For successful execution, please follow the steps listed below:\n",
    "- create and name a **data** directory/folder in the root/same directory of this notebook\n",
    "- inside the **data** directory created above, create two separate directory/folder named **chunked_train_data** **chunked_test_data**\n",
    "\n",
    "**caveat**, \n",
    "Only run the two immediate cells bellow once, for the entire lifecycle of the project, except you delete the directories and data created after the first run."
   ]
  },
  {
   "cell_type": "code",
   "execution_count": null,
   "id": "6e94a471",
   "metadata": {},
   "outputs": [],
   "source": [
    "# Run ONCE\n",
    "# Create and store chunk for train data\n",
    "t0 = time()\n",
    "for index, extention in enumerate (extentions):\n",
    "    \n",
    "    # Create chunk name\n",
    "    chunk_name = \"train_chunk_{0}\".format(extention)\n",
    "    \n",
    "    # Create and store chunk\n",
    "    globals()[chunk_name] = create_chunk_list(useful_train, 'userId', extention)\n",
    "    \n",
    "    # Create create directory and save chunk\n",
    "    directory = './data/chunked_train_data/'+chunk_name+'.csv'\n",
    "    globals()[chunk_name].to_csv(directory,index=False)\n",
    "    \n",
    "    # Delete chunk from global memory space\n",
    "    del globals()[chunk_name]\n",
    "t1 = time()\n",
    "\n",
    "print(f'I took {(t1 - t0) / 60} to create these chunks')"
   ]
  },
  {
   "cell_type": "markdown",
   "id": "75f55af0",
   "metadata": {},
   "source": [
    "As seen from the above, it took 58 minutes to generate chunks by userId for the train dataset."
   ]
  },
  {
   "cell_type": "code",
   "execution_count": null,
   "id": "6bfcddcc",
   "metadata": {},
   "outputs": [],
   "source": [
    "# Run ONCE\n",
    "# Create and store chunk for test data\n",
    "t0 = time()\n",
    "for index, extention in enumerate (extentions):\n",
    "    # Create chunk name\n",
    "    chunk_name = \"test_chunk_{0}\".format(extention)\n",
    "    \n",
    "    # Create and store chunk\n",
    "    globals()[chunk_name] = create_chunk_list(test, 'userId', extention)\n",
    "    \n",
    "    # Create create directory and save chunk\n",
    "    directory = './data/chunked_test_data/'+chunk_name+'.csv'\n",
    "    globals()[chunk_name].to_csv(directory,index=False)\n",
    "    \n",
    "    # Delete chunk from global memory space\n",
    "    del globals()[chunk_name]\n",
    "t1 = time()\n",
    "\n",
    "print(f'I took {(t1 - t0) / 60} to create these chunks')"
   ]
  },
  {
   "cell_type": "markdown",
   "id": "8a14a0fe",
   "metadata": {},
   "source": [
    "As seen from the above, it took 29 minutes to generate chunks by userId for the test dataset."
   ]
  },
  {
   "cell_type": "markdown",
   "id": "12175287",
   "metadata": {},
   "source": [
    "<a id=\"five\"></a>\n",
    "## 5. Modelling\n",
    "<a class=\"anchor\" id=\"1.1\"></a>\n",
    "<a href=#cont>Back to Table of Contents</a>\n",
    "\n",
    "---\n",
    "    \n",
    "| ⚡ Description: Modelling ⚡ |\n",
    "| :--------------------------- |\n",
    "\n",
    "\n",
    "---"
   ]
  },
  {
   "cell_type": "markdown",
   "id": "62031722",
   "metadata": {},
   "source": [
    "![1*rCK9VjrPgpHUvSNYw7qcuQ@2x.png](https://miro.medium.com/max/1000/1*rCK9VjrPgpHUvSNYw7qcuQ@2x.png)"
   ]
  },
  {
   "cell_type": "markdown",
   "id": "e42d8b26",
   "metadata": {},
   "source": [
    "### 5.1 Content-based Recommendation\n",
    "Making recommendations based on how similar the properties or features of an item are to other items the user has consumed. For this content-based approach, we have extracted a profile, which is a collection of records representing the vital characteristics of the interested movies.\n",
    "\n",
    "The features we collected for the movies, which we have stored in the **key_word** columns are:\n",
    "- title_cast\n",
    "- director\n",
    "- plot_keywords\n",
    "- genre\n",
    "- title\n",
    "- production year"
   ]
  },
  {
   "cell_type": "markdown",
   "id": "db1df2c6",
   "metadata": {},
   "source": [
    "#### 5.1.1 Rating Prediction\n",
    "\n",
    "To enable us generate movie ratings per userId in the test dataset, we write a function **content_generate_rating_estimate**, which does the below listed operations:\n",
    "- fetches all chunks for test and train data from the stored location, with userId, one at a time\n",
    "- vectorise and evaluates the cosine_similarities among all movies per userId\n",
    "- extimate the ratings for each movies in the test data, by averaging ratings for similar movies from the cosine_similarity table, per userId\n",
    "- formating the userId, movieId and predicted rating for kaggle submission\n",
    "- saving the foramted data above.\n"
   ]
  },
  {
   "cell_type": "code",
   "execution_count": 49,
   "id": "22a3eb0d",
   "metadata": {},
   "outputs": [],
   "source": [
    "# content_generate_rating_estimate function\n",
    "def content_generate_rating_estimate(k=3, threshold=0.0):\n",
    "    \"\"\"\n",
    "        This function accepts a value for argument k, which is the numbers of the number of the largest rating for \n",
    "        similar movies to work with, and a value for threshold argument, which is used to determine the minimum \n",
    "        acceptable rating.\n",
    "    \"\"\"\n",
    "    \n",
    "    frames = [] # used to store ratings locally for this notebook\n",
    "    \n",
    "    no_rating_count = 0 # To count the numbers of moivies with no similarity found, hence no rating\n",
    "    \n",
    "    for index, extention in enumerate (extentions):\n",
    "        new_ids = []\n",
    "        \n",
    "        # Create chunk name to for final rating predictions made\n",
    "        chunk_name = \"prediction_{0}\".format(extention)\n",
    "        directory = './data/prediction/'+chunk_name+'.csv'\n",
    "        \n",
    "        # Create and fetch both train and test chunks from local machine storage\n",
    "        rating_data = './data/chunked_train_data/train_chunk_{0}.csv'.format(extention)\n",
    "        user = './data/chunked_test_data/test_chunk_{0}.csv'.format(extention)\n",
    "        rating_data = pd.read_csv(rating_data)\n",
    "        user = pd.read_csv(user)\n",
    "        \n",
    "        # Combine both the train and test data, to enable vetorization and similarity evaluation of movies for userId\n",
    "        combined_movies_table = pd.concat([rating_data.drop(columns = ['rating']), user], ignore_index=True)\n",
    "        \n",
    "        # Store movies locations for proper indexing during similarity loaction\n",
    "        titles = combined_movies_table['movieId']\n",
    "        indices = pd.Series(combined_movies_table.index, combined_movies_table['movieId'])\n",
    "        \n",
    "        # Instanciate an object of TfidfVectorizer\n",
    "        tf = TfidfVectorizer(analyzer='word', ngram_range=(1,2),\n",
    "                     min_df=0, stop_words='english')\n",
    "        \n",
    "        # Produce a feature matrix, where each row corresponds to a movieid,\n",
    "        # with TF-IDF features as columns \n",
    "        tf_authTags_matrix = tf.fit_transform(combined_movies_table['key_words'])\n",
    "        \n",
    "        # Evaluate cosine_similarity for the movies\n",
    "        cosine_sim_authTags = cosine_similarity(tf_authTags_matrix, \n",
    "                                        tf_authTags_matrix)\n",
    "        \n",
    "        # Make a list of movies we want to evaluate ratings for\n",
    "        interested_movies = user['movieId'].tolist()\n",
    "        \n",
    "        new_ids = []\n",
    "        predictedRatings = []\n",
    "        for i, movie in enumerate(interested_movies):\n",
    "            b_idx = indices[movie]\n",
    "            neighbors = [] # <-- Stores our collection of similarity values \n",
    "        \n",
    "            for j, row in rating_data.iterrows():\n",
    "                sim = cosine_sim_authTags[b_idx-1, indices[row['movieId']]-1]\n",
    "                \n",
    "                neighbors.append((sim, row['rating']))\n",
    "                if j > 20:\n",
    "                    break\n",
    "            \n",
    "            # Select the top-N values from our collection\n",
    "            k_neighbors = heapq.nlargest(k, neighbors, key=lambda t: t[0])\n",
    "            \n",
    "            # Compute the weighted average using similarity scores and \n",
    "            # user item ratings. \n",
    "            simTotal, weightedSum = 0, 0\n",
    "            \n",
    "            for (simScore, rating) in k_neighbors:\n",
    "                # Ensure that similarity ratings are above a given threshold\n",
    "                if (simScore > threshold):\n",
    "                    simTotal += simScore\n",
    "                    weightedSum += simScore * rating\n",
    "            try:\n",
    "                predictedRating = weightedSum / simTotal\n",
    "            except ZeroDivisionError:\n",
    "                # Cold-start problem - No ratings given by user. \n",
    "                # We use the average rating for the reference item as a proxy in this case \n",
    "                predictedRating = np.mean(rating_data[rating_data['movieId']==movie]['rating'])\n",
    "                \n",
    "                # No rating count\n",
    "                no_rating_count = no_rating_count + 1\n",
    "                \n",
    "            # Prepare Id colunm for submission \n",
    "            new_id = str(extention)+ '_' + str(movie)\n",
    "            \n",
    "            # Append the new id generated\n",
    "            new_ids.append(new_id)\n",
    "            \n",
    "            # append the new prediction\n",
    "            predictedRatings.append(predictedRating)\n",
    "        \n",
    "            \n",
    "        df = pd.DataFrame({\n",
    "        'Id': new_ids,\n",
    "        'rating': predictedRatings\n",
    "         })\n",
    "        \n",
    "        # Save predictions in notebook and local machine\n",
    "        frames.append(df)\n",
    "        df.to_csv(directory,index=False)\n",
    "        \n",
    "    return frames"
   ]
  },
  {
   "cell_type": "code",
   "execution_count": 49,
   "id": "c96fe669",
   "metadata": {},
   "outputs": [],
   "source": [
    "# Generate predictions\n",
    "frames = content_generate_rating_estimate(k=3, threshold=0.0)"
   ]
  },
  {
   "cell_type": "markdown",
   "id": "300236d2",
   "metadata": {},
   "source": [
    "#### 5.1.2 Load Prediction Files\n",
    "\n",
    "We load prediction files from our local machine"
   ]
  },
  {
   "cell_type": "markdown",
   "id": "ecbfa212",
   "metadata": {},
   "source": [
    "#### Load Section one of prediction files"
   ]
  },
  {
   "cell_type": "code",
   "execution_count": 47,
   "id": "1ae03f05",
   "metadata": {},
   "outputs": [
    {
     "name": "stdout",
     "output_type": "stream",
     "text": [
      "162350\n"
     ]
    }
   ],
   "source": [
    "# Check the numbers of predictions we have made so far\n",
    "onlyfiles = next(os.walk('./data/prediction'))[2] \n",
    "print (len(onlyfiles))"
   ]
  },
  {
   "cell_type": "code",
   "execution_count": 48,
   "id": "67c9191a",
   "metadata": {},
   "outputs": [
    {
     "name": "stdout",
     "output_type": "stream",
     "text": [
      "The name of the first predicted file is:  prediction_1.csv\n"
     ]
    }
   ],
   "source": [
    "# Confrim the naming convention of the predicted files\n",
    "print('The name of the first predicted file is: ', sorted(onlyfiles)[0])"
   ]
  },
  {
   "cell_type": "code",
   "execution_count": 54,
   "id": "8e61593e",
   "metadata": {},
   "outputs": [
    {
     "name": "stdout",
     "output_type": "stream",
     "text": [
      "The length of predictions loaded is:  162350\n"
     ]
    }
   ],
   "source": [
    "# Load all predictions \n",
    "predictions = []\n",
    "for i, file_name in enumerate(onlyfiles):\n",
    "    direcory = './data/prediction/'+file_name\n",
    "    df = pd.read_csv(direcory)\n",
    "    predictions.append(df)\n",
    "\n",
    "# Print the length of prediction loaded\n",
    "print('The length of predictions loaded is: ', len(predictions))"
   ]
  },
  {
   "cell_type": "code",
   "execution_count": 55,
   "id": "9e43dece",
   "metadata": {},
   "outputs": [
    {
     "data": {
      "text/html": [
       "<div>\n",
       "<style scoped>\n",
       "    .dataframe tbody tr th:only-of-type {\n",
       "        vertical-align: middle;\n",
       "    }\n",
       "\n",
       "    .dataframe tbody tr th {\n",
       "        vertical-align: top;\n",
       "    }\n",
       "\n",
       "    .dataframe thead th {\n",
       "        text-align: right;\n",
       "    }\n",
       "</style>\n",
       "<table border=\"1\" class=\"dataframe\">\n",
       "  <thead>\n",
       "    <tr style=\"text-align: right;\">\n",
       "      <th></th>\n",
       "      <th>Id</th>\n",
       "      <th>rating</th>\n",
       "    </tr>\n",
       "  </thead>\n",
       "  <tbody>\n",
       "    <tr>\n",
       "      <th>0</th>\n",
       "      <td>1_2011</td>\n",
       "      <td>4.592968</td>\n",
       "    </tr>\n",
       "    <tr>\n",
       "      <th>1</th>\n",
       "      <td>1_4144</td>\n",
       "      <td>4.014992</td>\n",
       "    </tr>\n",
       "    <tr>\n",
       "      <th>2</th>\n",
       "      <td>1_5767</td>\n",
       "      <td>3.423949</td>\n",
       "    </tr>\n",
       "    <tr>\n",
       "      <th>3</th>\n",
       "      <td>1_6711</td>\n",
       "      <td>4.386451</td>\n",
       "    </tr>\n",
       "    <tr>\n",
       "      <th>4</th>\n",
       "      <td>1_7318</td>\n",
       "      <td>3.171166</td>\n",
       "    </tr>\n",
       "  </tbody>\n",
       "</table>\n",
       "</div>"
      ],
      "text/plain": [
       "       Id    rating\n",
       "0  1_2011  4.592968\n",
       "1  1_4144  4.014992\n",
       "2  1_5767  3.423949\n",
       "3  1_6711  4.386451\n",
       "4  1_7318  3.171166"
      ]
     },
     "execution_count": 55,
     "metadata": {},
     "output_type": "execute_result"
    }
   ],
   "source": [
    "# View the first prediction dataframe\n",
    "predictions[0].head()"
   ]
  },
  {
   "cell_type": "markdown",
   "id": "2692f357",
   "metadata": {},
   "source": [
    "#### Check for NaN, and replace with mean of each UserId rating\n",
    "\n",
    "There is a posibility that cosine_similarity will not find similarity for a particular movie in any of the movies seen by the users. In such cases, we want to replace the **NaN** with the average rating by the userId."
   ]
  },
  {
   "cell_type": "code",
   "execution_count": 56,
   "id": "9d3acc5f",
   "metadata": {},
   "outputs": [],
   "source": [
    "# Check for NaN and replace same with mean value\n",
    "import math\n",
    "for df in predictions:\n",
    "    mean_rating = df['rating'].mean()\n",
    "    df['rating'].fillna(mean_rating,inplace=True)"
   ]
  },
  {
   "cell_type": "code",
   "execution_count": 57,
   "id": "212b8a6b",
   "metadata": {},
   "outputs": [
    {
     "name": "stdout",
     "output_type": "stream",
     "text": [
      "Prediction shape is:  (5000019, 2)\n"
     ]
    },
    {
     "data": {
      "text/html": [
       "<div>\n",
       "<style scoped>\n",
       "    .dataframe tbody tr th:only-of-type {\n",
       "        vertical-align: middle;\n",
       "    }\n",
       "\n",
       "    .dataframe tbody tr th {\n",
       "        vertical-align: top;\n",
       "    }\n",
       "\n",
       "    .dataframe thead th {\n",
       "        text-align: right;\n",
       "    }\n",
       "</style>\n",
       "<table border=\"1\" class=\"dataframe\">\n",
       "  <thead>\n",
       "    <tr style=\"text-align: right;\">\n",
       "      <th></th>\n",
       "      <th>Id</th>\n",
       "      <th>rating</th>\n",
       "    </tr>\n",
       "  </thead>\n",
       "  <tbody>\n",
       "    <tr>\n",
       "      <th>0</th>\n",
       "      <td>1_2011</td>\n",
       "      <td>4.592968</td>\n",
       "    </tr>\n",
       "    <tr>\n",
       "      <th>1</th>\n",
       "      <td>1_4144</td>\n",
       "      <td>4.014992</td>\n",
       "    </tr>\n",
       "    <tr>\n",
       "      <th>2</th>\n",
       "      <td>1_5767</td>\n",
       "      <td>3.423949</td>\n",
       "    </tr>\n",
       "    <tr>\n",
       "      <th>3</th>\n",
       "      <td>1_6711</td>\n",
       "      <td>4.386451</td>\n",
       "    </tr>\n",
       "    <tr>\n",
       "      <th>4</th>\n",
       "      <td>1_7318</td>\n",
       "      <td>3.171166</td>\n",
       "    </tr>\n",
       "  </tbody>\n",
       "</table>\n",
       "</div>"
      ],
      "text/plain": [
       "       Id    rating\n",
       "0  1_2011  4.592968\n",
       "1  1_4144  4.014992\n",
       "2  1_5767  3.423949\n",
       "3  1_6711  4.386451\n",
       "4  1_7318  3.171166"
      ]
     },
     "execution_count": 57,
     "metadata": {},
     "output_type": "execute_result"
    }
   ],
   "source": [
    "# Merge the prediction files\n",
    "combined_predic_table = pd.concat(predictions, ignore_index=True)\n",
    "\n",
    "print('Prediction shape is: ', combined_predic_table.shape)\n",
    "combined_predic_table.head()"
   ]
  },
  {
   "cell_type": "code",
   "execution_count": 58,
   "id": "e882322a",
   "metadata": {},
   "outputs": [
    {
     "data": {
      "text/plain": [
       "Id        0\n",
       "rating    3\n",
       "dtype: int64"
      ]
     },
     "execution_count": 58,
     "metadata": {},
     "output_type": "execute_result"
    }
   ],
   "source": [
    "# Check for NaN value\n",
    "combined_predic_table.isna().sum()"
   ]
  },
  {
   "cell_type": "markdown",
   "id": "010c7085",
   "metadata": {},
   "source": [
    "As seen from the above, there are still ratings with NaN values, which could be as a result of the user who has not seen nor rated a movie before. We proceed to fill these values with the average rating in general (2.5)"
   ]
  },
  {
   "cell_type": "code",
   "execution_count": 59,
   "id": "a343f0b9",
   "metadata": {},
   "outputs": [
    {
     "data": {
      "text/plain": [
       "Id        0\n",
       "rating    0\n",
       "dtype: int64"
      ]
     },
     "execution_count": 59,
     "metadata": {},
     "output_type": "execute_result"
    }
   ],
   "source": [
    "combined_predic_table.fillna(3, inplace=True)\n",
    "# Check for NaN value\n",
    "combined_predic_table.isna().sum()"
   ]
  },
  {
   "cell_type": "code",
   "execution_count": 61,
   "id": "0cf85eed",
   "metadata": {},
   "outputs": [
    {
     "data": {
      "text/html": [
       "<div>\n",
       "<style scoped>\n",
       "    .dataframe tbody tr th:only-of-type {\n",
       "        vertical-align: middle;\n",
       "    }\n",
       "\n",
       "    .dataframe tbody tr th {\n",
       "        vertical-align: top;\n",
       "    }\n",
       "\n",
       "    .dataframe thead th {\n",
       "        text-align: right;\n",
       "    }\n",
       "</style>\n",
       "<table border=\"1\" class=\"dataframe\">\n",
       "  <thead>\n",
       "    <tr style=\"text-align: right;\">\n",
       "      <th></th>\n",
       "      <th>Id</th>\n",
       "      <th>rating</th>\n",
       "    </tr>\n",
       "  </thead>\n",
       "  <tbody>\n",
       "    <tr>\n",
       "      <th>0</th>\n",
       "      <td>1_2011</td>\n",
       "      <td>4.592968</td>\n",
       "    </tr>\n",
       "    <tr>\n",
       "      <th>1</th>\n",
       "      <td>1_4144</td>\n",
       "      <td>4.014992</td>\n",
       "    </tr>\n",
       "    <tr>\n",
       "      <th>2</th>\n",
       "      <td>1_5767</td>\n",
       "      <td>3.423949</td>\n",
       "    </tr>\n",
       "    <tr>\n",
       "      <th>3</th>\n",
       "      <td>1_6711</td>\n",
       "      <td>4.386451</td>\n",
       "    </tr>\n",
       "    <tr>\n",
       "      <th>4</th>\n",
       "      <td>1_7318</td>\n",
       "      <td>3.171166</td>\n",
       "    </tr>\n",
       "    <tr>\n",
       "      <th>...</th>\n",
       "      <td>...</td>\n",
       "      <td>...</td>\n",
       "    </tr>\n",
       "    <tr>\n",
       "      <th>5000014</th>\n",
       "      <td>99999_55995</td>\n",
       "      <td>4.595183</td>\n",
       "    </tr>\n",
       "    <tr>\n",
       "      <th>5000015</th>\n",
       "      <td>99999_56156</td>\n",
       "      <td>4.172687</td>\n",
       "    </tr>\n",
       "    <tr>\n",
       "      <th>5000016</th>\n",
       "      <td>99999_56174</td>\n",
       "      <td>4.370424</td>\n",
       "    </tr>\n",
       "    <tr>\n",
       "      <th>5000017</th>\n",
       "      <td>99999_59026</td>\n",
       "      <td>2.822212</td>\n",
       "    </tr>\n",
       "    <tr>\n",
       "      <th>5000018</th>\n",
       "      <td>99999_47423</td>\n",
       "      <td>4.327710</td>\n",
       "    </tr>\n",
       "  </tbody>\n",
       "</table>\n",
       "<p>5000019 rows × 2 columns</p>\n",
       "</div>"
      ],
      "text/plain": [
       "                  Id    rating\n",
       "0             1_2011  4.592968\n",
       "1             1_4144  4.014992\n",
       "2             1_5767  3.423949\n",
       "3             1_6711  4.386451\n",
       "4             1_7318  3.171166\n",
       "...              ...       ...\n",
       "5000014  99999_55995  4.595183\n",
       "5000015  99999_56156  4.172687\n",
       "5000016  99999_56174  4.370424\n",
       "5000017  99999_59026  2.822212\n",
       "5000018  99999_47423  4.327710\n",
       "\n",
       "[5000019 rows x 2 columns]"
      ]
     },
     "execution_count": 61,
     "metadata": {},
     "output_type": "execute_result"
    }
   ],
   "source": [
    "combined_predic_table"
   ]
  },
  {
   "cell_type": "code",
   "execution_count": 62,
   "id": "7087ba42",
   "metadata": {},
   "outputs": [],
   "source": [
    "combined_predic_table.to_csv('file_005.csv', index=False)"
   ]
  },
  {
   "cell_type": "markdown",
   "id": "62791fa2",
   "metadata": {},
   "source": [
    "### 5.2 Collaborative filtering\n",
    "\n",
    "These are recommender systems that are base solely on the past interations recorded between users and items, in our case userIds and movies. These interactions are stored in **user-item interaction matrix**.\n",
    "\n",
    "The main Idea that rules collaborative method is that the past user-item interations are sufficient to detect similar users and/or similar items that make predictions possible.\n",
    "\n",
    "Consdering the above, in our EDA above, we confirmed that all userIds in the test dataset are present in the train dataset, we also confirmed that all movieIds in the test dataset are also present in the train dataset. Hence we can proceed to make prediction(movie ratings) using the **Collaborative filtering method**"
   ]
  },
  {
   "cell_type": "markdown",
   "id": "e4f28775",
   "metadata": {},
   "source": [
    "#### Confirm shape and format of train dataset again"
   ]
  },
  {
   "cell_type": "code",
   "execution_count": 49,
   "id": "7beca5f3",
   "metadata": {},
   "outputs": [
    {
     "name": "stdout",
     "output_type": "stream",
     "text": [
      "The shape of train data is:  (10000038, 4)\n"
     ]
    },
    {
     "data": {
      "text/html": [
       "<div>\n",
       "<style scoped>\n",
       "    .dataframe tbody tr th:only-of-type {\n",
       "        vertical-align: middle;\n",
       "    }\n",
       "\n",
       "    .dataframe tbody tr th {\n",
       "        vertical-align: top;\n",
       "    }\n",
       "\n",
       "    .dataframe thead th {\n",
       "        text-align: right;\n",
       "    }\n",
       "</style>\n",
       "<table border=\"1\" class=\"dataframe\">\n",
       "  <thead>\n",
       "    <tr style=\"text-align: right;\">\n",
       "      <th></th>\n",
       "      <th>userId</th>\n",
       "      <th>movieId</th>\n",
       "      <th>rating</th>\n",
       "      <th>key_words</th>\n",
       "    </tr>\n",
       "  </thead>\n",
       "  <tbody>\n",
       "    <tr>\n",
       "      <th>0</th>\n",
       "      <td>1</td>\n",
       "      <td>296</td>\n",
       "      <td>5.0</td>\n",
       "      <td>Pulp Fiction 1994 Tim Roth Amanda Plummer Laur...</td>\n",
       "    </tr>\n",
       "    <tr>\n",
       "      <th>1</th>\n",
       "      <td>1</td>\n",
       "      <td>27721</td>\n",
       "      <td>3.0</td>\n",
       "      <td>Very Long Engagement, A Un long dimanche de fi...</td>\n",
       "    </tr>\n",
       "    <tr>\n",
       "      <th>2</th>\n",
       "      <td>1</td>\n",
       "      <td>665</td>\n",
       "      <td>5.0</td>\n",
       "      <td>Underground 1995 Predrag 'Miki' Manojlovic Laz...</td>\n",
       "    </tr>\n",
       "    <tr>\n",
       "      <th>3</th>\n",
       "      <td>1</td>\n",
       "      <td>4308</td>\n",
       "      <td>3.0</td>\n",
       "      <td>Moulin Rouge 2001 Nicole Kidman Ewan McGregor ...</td>\n",
       "    </tr>\n",
       "    <tr>\n",
       "      <th>4</th>\n",
       "      <td>1</td>\n",
       "      <td>1250</td>\n",
       "      <td>4.0</td>\n",
       "      <td>Bridge on the River Kwai, The 1957    Adventur...</td>\n",
       "    </tr>\n",
       "  </tbody>\n",
       "</table>\n",
       "</div>"
      ],
      "text/plain": [
       "   userId  movieId  rating                                          key_words\n",
       "0       1      296     5.0  Pulp Fiction 1994 Tim Roth Amanda Plummer Laur...\n",
       "1       1    27721     3.0  Very Long Engagement, A Un long dimanche de fi...\n",
       "2       1      665     5.0  Underground 1995 Predrag 'Miki' Manojlovic Laz...\n",
       "3       1     4308     3.0  Moulin Rouge 2001 Nicole Kidman Ewan McGregor ...\n",
       "4       1     1250     4.0  Bridge on the River Kwai, The 1957    Adventur..."
      ]
     },
     "execution_count": 49,
     "metadata": {},
     "output_type": "execute_result"
    }
   ],
   "source": [
    "# confirm train dataset\n",
    "print('The shape of train data is: ', useful_train.shape)\n",
    "useful_train.head()"
   ]
  },
  {
   "cell_type": "markdown",
   "id": "1bcfb63e",
   "metadata": {},
   "source": [
    "#### Confirm shape and format of test dataset again"
   ]
  },
  {
   "cell_type": "code",
   "execution_count": 50,
   "id": "5b2ed956",
   "metadata": {},
   "outputs": [
    {
     "name": "stdout",
     "output_type": "stream",
     "text": [
      "The shape of test data is:  (5000019, 3)\n"
     ]
    },
    {
     "data": {
      "text/html": [
       "<div>\n",
       "<style scoped>\n",
       "    .dataframe tbody tr th:only-of-type {\n",
       "        vertical-align: middle;\n",
       "    }\n",
       "\n",
       "    .dataframe tbody tr th {\n",
       "        vertical-align: top;\n",
       "    }\n",
       "\n",
       "    .dataframe thead th {\n",
       "        text-align: right;\n",
       "    }\n",
       "</style>\n",
       "<table border=\"1\" class=\"dataframe\">\n",
       "  <thead>\n",
       "    <tr style=\"text-align: right;\">\n",
       "      <th></th>\n",
       "      <th>userId</th>\n",
       "      <th>movieId</th>\n",
       "      <th>key_words</th>\n",
       "    </tr>\n",
       "  </thead>\n",
       "  <tbody>\n",
       "    <tr>\n",
       "      <th>0</th>\n",
       "      <td>1</td>\n",
       "      <td>2011</td>\n",
       "      <td>Back to the Future Part II 1989    Adventure C...</td>\n",
       "    </tr>\n",
       "    <tr>\n",
       "      <th>1</th>\n",
       "      <td>1</td>\n",
       "      <td>4144</td>\n",
       "      <td>In the Mood For Love Fa yeung nin wa 2000 Magg...</td>\n",
       "    </tr>\n",
       "    <tr>\n",
       "      <th>2</th>\n",
       "      <td>1</td>\n",
       "      <td>5767</td>\n",
       "      <td>Teddy Bear Mis 1981    Comedy Crime</td>\n",
       "    </tr>\n",
       "    <tr>\n",
       "      <th>3</th>\n",
       "      <td>1</td>\n",
       "      <td>6711</td>\n",
       "      <td>Lost in Translation 2003 Scarlett Johansson Bi...</td>\n",
       "    </tr>\n",
       "    <tr>\n",
       "      <th>4</th>\n",
       "      <td>1</td>\n",
       "      <td>7318</td>\n",
       "      <td>Passion of the Christ, The 2004 Jim Caviezel M...</td>\n",
       "    </tr>\n",
       "  </tbody>\n",
       "</table>\n",
       "</div>"
      ],
      "text/plain": [
       "   userId  movieId                                          key_words\n",
       "0       1     2011  Back to the Future Part II 1989    Adventure C...\n",
       "1       1     4144  In the Mood For Love Fa yeung nin wa 2000 Magg...\n",
       "2       1     5767                Teddy Bear Mis 1981    Comedy Crime\n",
       "3       1     6711  Lost in Translation 2003 Scarlett Johansson Bi...\n",
       "4       1     7318  Passion of the Christ, The 2004 Jim Caviezel M..."
      ]
     },
     "execution_count": 50,
     "metadata": {},
     "output_type": "execute_result"
    }
   ],
   "source": [
    "# Confirm test dataset\n",
    "print('The shape of test data is: ', test.shape)\n",
    "test.head()"
   ]
  },
  {
   "cell_type": "markdown",
   "id": "490d1801",
   "metadata": {},
   "source": [
    "#### Drop unwanted columns\n",
    "\n",
    "We proceeded to drop the key_words column in the train dataset because the approach to collaborative filtering we have \n",
    "chosen **user-item**, will only require we work with the below listed columns from the train dataset:\n",
    "- userId\n",
    "- movieId\n",
    "- rating\n",
    "\n",
    "Also, for this approach, we have chosen to use a python package called **surprise**.\n",
    "Surprise is an easy-to-use Python scikit for recommender systems."
   ]
  },
  {
   "cell_type": "code",
   "execution_count": 51,
   "id": "d9fe0a0e",
   "metadata": {},
   "outputs": [],
   "source": [
    "# Drop key_words column for the train dataset\n",
    "ratings = useful_train.drop(columns='key_words')\n",
    "\n",
    "# Instanciate a Reader object from surprise package\n",
    "reader = Reader()\n",
    "\n",
    "# Instanciate the dataset object from surprice package with the ratings table and reader object\n",
    "data = Dataset.load_from_df(ratings, reader)"
   ]
  },
  {
   "cell_type": "markdown",
   "id": "956cf5fc",
   "metadata": {},
   "source": [
    "#### Instanciate and train an SVD model from the surprise package\n",
    "\n",
    "The surprise package has in it different models for solving a recommender system task, one of the is the SVD model, which we have chosen for this project."
   ]
  },
  {
   "cell_type": "code",
   "execution_count": 52,
   "id": "be3d2b84",
   "metadata": {},
   "outputs": [
    {
     "data": {
      "text/plain": [
       "<surprise.prediction_algorithms.matrix_factorization.SVD at 0x26e0ee3f400>"
      ]
     },
     "execution_count": 52,
     "metadata": {},
     "output_type": "execute_result"
    }
   ],
   "source": [
    "# Instantiate an SVD model from the surprice package\n",
    "svd = SVD()\n",
    "\n",
    "# Instanciate and build the dataset with data object from surprise package\n",
    "trainset = data.build_full_trainset()\n",
    "\n",
    "# Train the SVD model\n",
    "svd.fit(trainset)\n",
    "\n"
   ]
  },
  {
   "cell_type": "markdown",
   "id": "15e176b6",
   "metadata": {},
   "source": [
    "#### Making Predicitons\n",
    "\n",
    "To make rating predictions with userIds and movieIds from the test dataset, we have to successfully carryout the below listed task:\n",
    "\n",
    "- extract the userIds and corresponding movieIds into a python list\n",
    "- loop through a range, which is the size of the list created above\n",
    "- make rating predictions with the corresponding userIds and movieIds, accessed through indexing\n",
    "- prepare the userId, movieId and rating for submission"
   ]
  },
  {
   "cell_type": "code",
   "execution_count": 53,
   "id": "5219476a",
   "metadata": {},
   "outputs": [],
   "source": [
    "# Extract the userIds and corresponding movieIds into a python list\n",
    "userId = test['userId'].values.tolist()\n",
    "movieId = test['movieId'].values.tolist()\n",
    "\n",
    "# Create a range of numbers which is the size of list created above\n",
    "count = len(userId)\n",
    "rating = []\n",
    "ids = []\n",
    "\n",
    "# Make rating predictions with the corresponding userIds and movieIds, accessed through indexing\n",
    "for i in range(count):\n",
    "    result = svd.predict(userId[i], movieId[i])[3]\n",
    "    \n",
    "    # Store the predicted rating\n",
    "    rating.append(result)\n",
    "    \n",
    "    # Prepare, save userId and movieId for submission\n",
    "    ids.append(str(userId[i]) + '_' + str(movieId[i]))"
   ]
  },
  {
   "cell_type": "code",
   "execution_count": 54,
   "id": "356af3df",
   "metadata": {},
   "outputs": [
    {
     "data": {
      "text/html": [
       "<div>\n",
       "<style scoped>\n",
       "    .dataframe tbody tr th:only-of-type {\n",
       "        vertical-align: middle;\n",
       "    }\n",
       "\n",
       "    .dataframe tbody tr th {\n",
       "        vertical-align: top;\n",
       "    }\n",
       "\n",
       "    .dataframe thead th {\n",
       "        text-align: right;\n",
       "    }\n",
       "</style>\n",
       "<table border=\"1\" class=\"dataframe\">\n",
       "  <thead>\n",
       "    <tr style=\"text-align: right;\">\n",
       "      <th></th>\n",
       "      <th>Id</th>\n",
       "      <th>rating</th>\n",
       "    </tr>\n",
       "  </thead>\n",
       "  <tbody>\n",
       "    <tr>\n",
       "      <th>0</th>\n",
       "      <td>1_2011</td>\n",
       "      <td>3.526712</td>\n",
       "    </tr>\n",
       "    <tr>\n",
       "      <th>1</th>\n",
       "      <td>1_4144</td>\n",
       "      <td>4.187219</td>\n",
       "    </tr>\n",
       "    <tr>\n",
       "      <th>2</th>\n",
       "      <td>1_5767</td>\n",
       "      <td>3.633191</td>\n",
       "    </tr>\n",
       "    <tr>\n",
       "      <th>3</th>\n",
       "      <td>1_6711</td>\n",
       "      <td>3.968821</td>\n",
       "    </tr>\n",
       "    <tr>\n",
       "      <th>4</th>\n",
       "      <td>1_7318</td>\n",
       "      <td>3.705521</td>\n",
       "    </tr>\n",
       "  </tbody>\n",
       "</table>\n",
       "</div>"
      ],
      "text/plain": [
       "       Id    rating\n",
       "0  1_2011  3.526712\n",
       "1  1_4144  4.187219\n",
       "2  1_5767  3.633191\n",
       "3  1_6711  3.968821\n",
       "4  1_7318  3.705521"
      ]
     },
     "execution_count": 54,
     "metadata": {},
     "output_type": "execute_result"
    }
   ],
   "source": [
    "# Convert ids and ratings to dataframe\n",
    "colab_df =  pd.DataFrame({\n",
    "        'Id': ids,\n",
    "        'rating': rating\n",
    "         })\n",
    "colab_df.head()"
   ]
  },
  {
   "cell_type": "code",
   "execution_count": 69,
   "id": "7f7471d4",
   "metadata": {},
   "outputs": [],
   "source": [
    "# Convert dataframe to csv file for submission.\n",
    "colab_df.to_csv('file_008.csv', index=False)"
   ]
  },
  {
   "cell_type": "markdown",
   "id": "a7278b71",
   "metadata": {},
   "source": [
    "#### Hyperparameter Tuning with GridSearchCV\n",
    "\n",
    "Hyper-parameter tuning is a process of determining a set of optimal hyperparameters values for a learning algorithm. \n",
    "A hyperparameter is a model argument whose value is set before the learning process begins. \n",
    "\n"
   ]
  },
  {
   "cell_type": "code",
   "execution_count": 57,
   "id": "2f87c9e9",
   "metadata": {},
   "outputs": [
    {
     "name": "stderr",
     "output_type": "stream",
     "text": [
      "[Parallel(n_jobs=-1)]: Using backend LokyBackend with 8 concurrent workers.\n",
      "[Parallel(n_jobs=-1)]: Done   2 tasks      | elapsed: 117.8min\n",
      "[Parallel(n_jobs=-1)]: Done   9 tasks      | elapsed: 294.7min\n",
      "[Parallel(n_jobs=-1)]: Done  16 tasks      | elapsed: 374.0min\n",
      "[Parallel(n_jobs=-1)]: Done  25 tasks      | elapsed: 646.2min\n",
      "[Parallel(n_jobs=-1)]: Done  30 out of  40 | elapsed: 681.9min remaining: 227.3min\n",
      "[Parallel(n_jobs=-1)]: Done  35 out of  40 | elapsed: 869.1min remaining: 124.2min\n"
     ]
    },
    {
     "name": "stdout",
     "output_type": "stream",
     "text": [
      "Best Score is: \n",
      "0.7976136205749406\n",
      "Best Parameters are: \n",
      "{'n_epochs': 40, 'n_factors': 400, 'init_std_dev': 0.005, 'random_state': 42}\n"
     ]
    },
    {
     "name": "stderr",
     "output_type": "stream",
     "text": [
      "[Parallel(n_jobs=-1)]: Done  40 out of  40 | elapsed: 927.4min remaining:    0.0s\n",
      "[Parallel(n_jobs=-1)]: Done  40 out of  40 | elapsed: 927.5min finished\n"
     ]
    }
   ],
   "source": [
    "param_grid = {'n_epochs':[35,40], \n",
    "              'n_factors':[300,400], \n",
    "              'init_std_dev':[0.001, 0.005], \n",
    "               'random_state':[RANDOM_STATE]} \n",
    "grid_SVD = GridSearchCV(SVD, cv=5, measures=['rmse'], param_grid=param_grid, n_jobs=-1, joblib_verbose=10)\n",
    "grid_SVD.fit(data)\n",
    "print('Best Score is: ')\n",
    "print(grid_SVD.best_score['rmse'])\n",
    "print('Best Parameters are: ')\n",
    "print(grid_SVD.best_params['rmse'])"
   ]
  },
  {
   "cell_type": "code",
   "execution_count": 58,
   "id": "e47c785d",
   "metadata": {},
   "outputs": [
    {
     "name": "stdout",
     "output_type": "stream",
     "text": [
      "Processing epoch 0\n",
      "Processing epoch 1\n",
      "Processing epoch 2\n",
      "Processing epoch 3\n",
      "Processing epoch 4\n",
      "Processing epoch 5\n",
      "Processing epoch 6\n",
      "Processing epoch 7\n",
      "Processing epoch 8\n",
      "Processing epoch 9\n",
      "Processing epoch 10\n",
      "Processing epoch 11\n",
      "Processing epoch 12\n",
      "Processing epoch 13\n",
      "Processing epoch 14\n",
      "Processing epoch 15\n",
      "Processing epoch 16\n",
      "Processing epoch 17\n",
      "Processing epoch 18\n",
      "Processing epoch 19\n",
      "Processing epoch 20\n",
      "Processing epoch 21\n",
      "Processing epoch 22\n",
      "Processing epoch 23\n",
      "Processing epoch 24\n",
      "Processing epoch 25\n",
      "Processing epoch 26\n",
      "Processing epoch 27\n",
      "Processing epoch 28\n",
      "Processing epoch 29\n",
      "Processing epoch 30\n",
      "Processing epoch 31\n",
      "Processing epoch 32\n",
      "Processing epoch 33\n",
      "Processing epoch 34\n",
      "Processing epoch 35\n",
      "Processing epoch 36\n",
      "Processing epoch 37\n",
      "Processing epoch 38\n",
      "Processing epoch 39\n"
     ]
    },
    {
     "data": {
      "text/plain": [
       "<surprise.prediction_algorithms.matrix_factorization.SVD at 0x27404a0b040>"
      ]
     },
     "execution_count": 58,
     "metadata": {},
     "output_type": "execute_result"
    }
   ],
   "source": [
    "# Instanciate and build the dataset with data object from surprise package\n",
    "trainset = data.build_full_trainset()\n",
    "svd = SVD(n_epochs = 40, n_factors = 400, init_std_dev = 0.005, random_state=RANDOM_STATE, verbose=True)\n",
    "svd.fit(trainset)"
   ]
  },
  {
   "cell_type": "code",
   "execution_count": 59,
   "id": "9879b2ef",
   "metadata": {},
   "outputs": [],
   "source": [
    "# Extract the userIds and corresponding movieIds into a python list\n",
    "userId = test['userId'].values.tolist()\n",
    "movieId = test['movieId'].values.tolist()\n",
    "\n",
    "# Create a range of numbers which is the size of list created above\n",
    "count = len(userId)\n",
    "rating = []\n",
    "ids = []\n",
    "\n",
    "# Make rating predictions with the corresponding userIds and movieIds, accessed through indexing\n",
    "for i in range(count):\n",
    "    result = svd.predict(userId[i], movieId[i])[3]\n",
    "    \n",
    "    # Store the predicted rating\n",
    "    rating.append(result)\n",
    "    \n",
    "    # Prepare, save userId and movieId for submission\n",
    "    ids.append(str(userId[i]) + '_' + str(movieId[i]))"
   ]
  },
  {
   "cell_type": "code",
   "execution_count": 60,
   "id": "886c5282",
   "metadata": {},
   "outputs": [
    {
     "data": {
      "text/html": [
       "<div>\n",
       "<style scoped>\n",
       "    .dataframe tbody tr th:only-of-type {\n",
       "        vertical-align: middle;\n",
       "    }\n",
       "\n",
       "    .dataframe tbody tr th {\n",
       "        vertical-align: top;\n",
       "    }\n",
       "\n",
       "    .dataframe thead th {\n",
       "        text-align: right;\n",
       "    }\n",
       "</style>\n",
       "<table border=\"1\" class=\"dataframe\">\n",
       "  <thead>\n",
       "    <tr style=\"text-align: right;\">\n",
       "      <th></th>\n",
       "      <th>Id</th>\n",
       "      <th>rating</th>\n",
       "    </tr>\n",
       "  </thead>\n",
       "  <tbody>\n",
       "    <tr>\n",
       "      <th>0</th>\n",
       "      <td>1_2011</td>\n",
       "      <td>3.184812</td>\n",
       "    </tr>\n",
       "    <tr>\n",
       "      <th>1</th>\n",
       "      <td>1_4144</td>\n",
       "      <td>4.171471</td>\n",
       "    </tr>\n",
       "    <tr>\n",
       "      <th>2</th>\n",
       "      <td>1_5767</td>\n",
       "      <td>3.742324</td>\n",
       "    </tr>\n",
       "    <tr>\n",
       "      <th>3</th>\n",
       "      <td>1_6711</td>\n",
       "      <td>4.089543</td>\n",
       "    </tr>\n",
       "    <tr>\n",
       "      <th>4</th>\n",
       "      <td>1_7318</td>\n",
       "      <td>2.975876</td>\n",
       "    </tr>\n",
       "  </tbody>\n",
       "</table>\n",
       "</div>"
      ],
      "text/plain": [
       "       Id    rating\n",
       "0  1_2011  3.184812\n",
       "1  1_4144  4.171471\n",
       "2  1_5767  3.742324\n",
       "3  1_6711  4.089543\n",
       "4  1_7318  2.975876"
      ]
     },
     "execution_count": 60,
     "metadata": {},
     "output_type": "execute_result"
    }
   ],
   "source": [
    "# Convert ids and ratings to dataframe\n",
    "colab_df =  pd.DataFrame({\n",
    "        'Id': ids,\n",
    "        'rating': rating\n",
    "         })\n",
    "colab_df.head()"
   ]
  },
  {
   "cell_type": "code",
   "execution_count": 61,
   "id": "0ca915b0",
   "metadata": {},
   "outputs": [],
   "source": [
    "# Convert dataframe to csv file for submission.\n",
    "colab_df.to_csv('file_009.csv', index=False)"
   ]
  },
  {
   "cell_type": "markdown",
   "id": "6b530251",
   "metadata": {
    "id": "6b530251"
   },
   "source": [
    "<a id=\"six\"></a>\n",
    "## 6. Model Performance\n",
    "<a class=\"anchor\" id=\"1.1\"></a>\n",
    "<a href=#cont>Back to Table of Contents</a>\n",
    "\n",
    "---\n",
    "    \n",
    "| ⚡ Description: Model performance ⚡ |\n",
    "| :--------------------------- |\n",
    "\n",
    "\n",
    "---"
   ]
  },
  {
   "cell_type": "markdown",
   "id": "afeec477",
   "metadata": {},
   "source": [
    "###  Rating Prediction\n",
    "\n",
    "As motivated previously, in some cases we may wish to directly calculate what rating a user _would_ give a book that they haven't read yet. \n",
    "\n",
    "We can modify our content-based filtering algorithm to do this in the following manner: \n",
    "\n",
    "   1. Select a reference user from the database and a reference item (movie) they have _not_ rated. \n",
    "   2. For the user, gather the similarity values between the reference item and each item the user _has_ rated. \n",
    "   3. Sort the gathered similarity values in descending order. \n",
    "   4. Select the $k$ highest similarity values which are above a given threshold value, creating a collection $K$. \n",
    "   5. Compute a weighted average rating from these values, which is the sum of the similarity values of each item multiplied by its assigned user-rating, divided by the sum of the similarity values. This can be expressed in formula as:\n",
    "   \n",
    "   $$ \\hat{R}_{ju} = \\frac{\\sum_{i \\in K} s_{ij} \\times r_{iu}}{\\sum_{i \\in K} s_{ij}}   $$\n",
    "   \n",
    "   where $\\hat{R}_{ju}$ is the weighted average computed for the reference item $j$ and reference user $u$, $K$ is the collection of items, $s_{ij}$ is the similarity computed between items $i$ and $j$, and $r_{iu}$ is the known rating user $u$ has given item $i$.\n",
    "   6. We return the weighted average $\\hat{R}_{ju}$ as the prediction for our reference item.\n",
    "   \n",
    "   \n",
    "We implement this algorithmic process in the function below:"
   ]
  },
  {
   "cell_type": "code",
   "execution_count": 62,
   "id": "6a69b5a1",
   "metadata": {
    "id": "6a69b5a1"
   },
   "outputs": [
    {
     "name": "stdout",
     "output_type": "stream",
     "text": [
      "Evaluating RMSE of algorithm SVD on 5 split(s).\n",
      "\n",
      "                  Fold 1  Fold 2  Fold 3  Fold 4  Fold 5  Mean    Std     \n",
      "RMSE (testset)    0.8337  0.8344  0.8343  0.8337  0.8343  0.8341  0.0003  \n",
      "Fit time          480.43  617.65  662.64  664.46  658.54  616.74  70.30   \n",
      "Test time         38.91   55.17   51.48   47.76   47.11   48.08   5.42    \n"
     ]
    }
   ],
   "source": [
    "# Compare model performance\n",
    "svd = SVD()\n",
    "# Run 5-fold cross-validation and print results\n",
    "svd_cv = cross_validate(svd, data, measures=['RMSE'], cv=5, verbose=True)"
   ]
  },
  {
   "cell_type": "code",
   "execution_count": null,
   "id": "3874a7c6",
   "metadata": {
    "id": "3874a7c6"
   },
   "outputs": [],
   "source": [
    "# Choose best model and motivate why it is the best choice"
   ]
  },
  {
   "cell_type": "markdown",
   "id": "a8ad0c0d",
   "metadata": {
    "id": "a8ad0c0d"
   },
   "source": [
    "<a id=\"seven\"></a>\n",
    "## 7. Model Explanations & Conclusion\n",
    "<a class=\"anchor\" id=\"1.1\"></a>\n",
    "<a href=#cont>Back to Table of Contents</a>\n",
    "\n",
    "---\n",
    "    \n",
    "| ⚡ Description: Model explanation ⚡ |\n",
    "| :--------------------------- |\n",
    "\n",
    "\n",
    "---"
   ]
  },
  {
   "cell_type": "markdown",
   "id": "62a9f284",
   "metadata": {},
   "source": [
    "#### __Singular Value Decomposition (SVD)__"
   ]
  },
  {
   "cell_type": "markdown",
   "id": "9bb81ef1",
   "metadata": {},
   "source": [
    "Singular Value Decomposition (SVD) and Matrix Factorization models are used to predict the end user's rating on items yet to be consumed by users. \n",
    "\n",
    "In this project, We have utilized the results of singular value decomposition (SVD) to predict how users will rate movies  yet to be seen by them.\n",
    "\n",
    "SVD is decomposition of a matrix R which is the utility matrix with m equal to the number of users and m number exposed movies ratings into the product of three matrices:\n",
    "\n",
    "* U is a left singular orthogonal matrix, representing the relationship between users and latent factors (Hopcroft & Kannan, 2012)\n",
    "\n",
    "* Σ is a diagonal matrix (with positive real values) describing the strength of each latent factor\n",
    "\n",
    "* V(transpose) is a right singular orthogonal matrix, indicating the similarity between items and latent factors.\n",
    "\n",
    "![2020/02/svd2.png](https://www.dataminingapps.com/wp-content/uploads/2020/02/svd2.png)\n",
    "\n",
    "The general goal of SVD (and other matrix factorization methods) is to decompose the matrix R with all missing values and multiply its components, U, Σ and V once again. As a result, there are no missing values and it is possible to recommend each user movies (items) they have not seen yet."
   ]
  },
  {
   "cell_type": "code",
   "execution_count": null,
   "id": "5ff741c2",
   "metadata": {
    "id": "5ff741c2"
   },
   "outputs": [],
   "source": [
    "# discuss chosen methods logic"
   ]
  },
  {
   "cell_type": "markdown",
   "id": "1c3d6e8d",
   "metadata": {},
   "source": [
    "Run the next cell to make sure the experiment as ended. It notifies comit."
   ]
  },
  {
   "cell_type": "code",
   "execution_count": null,
   "id": "eb735b1d",
   "metadata": {},
   "outputs": [],
   "source": [
    "experiment.end()"
   ]
  }
 ],
 "metadata": {
  "colab": {
   "include_colab_link": true,
   "name": "2110ACDS_T7-starter-notebook.ipynb",
   "provenance": []
  },
  "kernelspec": {
   "display_name": "Python 3 (ipykernel)",
   "language": "python",
   "name": "python3"
  },
  "language_info": {
   "codemirror_mode": {
    "name": "ipython",
    "version": 3
   },
   "file_extension": ".py",
   "mimetype": "text/x-python",
   "name": "python",
   "nbconvert_exporter": "python",
   "pygments_lexer": "ipython3",
   "version": "3.10.5"
  },
  "latex_envs": {
   "LaTeX_envs_menu_present": true,
   "autoclose": false,
   "autocomplete": true,
   "bibliofile": "biblio.bib",
   "cite_by": "apalike",
   "current_citInitial": 1,
   "eqLabelWithNumbers": true,
   "eqNumInitial": 1,
   "hotkeys": {
    "equation": "Ctrl-E",
    "itemize": "Ctrl-I"
   },
   "labels_anchors": false,
   "latex_user_defs": false,
   "report_style_numbering": false,
   "user_envs_cfg": false
  },
  "toc": {
   "base_numbering": 1,
   "nav_menu": {},
   "number_sections": true,
   "sideBar": true,
   "skip_h1_title": false,
   "title_cell": "Table of Contents",
   "title_sidebar": "Contents",
   "toc_cell": false,
   "toc_position": {},
   "toc_section_display": true,
   "toc_window_display": false
  },
  "varInspector": {
   "cols": {
    "lenName": 16,
    "lenType": 16,
    "lenVar": 40
   },
   "kernels_config": {
    "python": {
     "delete_cmd_postfix": "",
     "delete_cmd_prefix": "del ",
     "library": "var_list.py",
     "varRefreshCmd": "print(var_dic_list())"
    },
    "r": {
     "delete_cmd_postfix": ") ",
     "delete_cmd_prefix": "rm(",
     "library": "var_list.r",
     "varRefreshCmd": "cat(var_dic_list()) "
    }
   },
   "types_to_exclude": [
    "module",
    "function",
    "builtin_function_or_method",
    "instance",
    "_Feature"
   ],
   "window_display": false
  },
  "vscode": {
   "interpreter": {
    "hash": "ba72dc0c220b0e454c7292c0dc155c81095755f796697501439523818fbb8ec2"
   }
  }
 },
 "nbformat": 4,
 "nbformat_minor": 5
}
