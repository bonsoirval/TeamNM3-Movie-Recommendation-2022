{
 "cells": [
  {
   "cell_type": "code",
   "execution_count": null,
   "id": "df0bbb75",
   "metadata": {},
   "outputs": [],
   "source": [
    "import pandas as pd\n",
    "\n",
    "scores = pd.read_csv(\"datasets/genome_scores.csv\")\n",
    "scores['relevance'].sort_values(ascending=False).tail()\n",
    "\n",
    "movies = pd.read_csv('datasets/movies.csv')\n",
    "movies.head()\n",
    "\n",
    "genome_tags = pd.read_csv('datasets/genome_tags.csv')\n",
    "genome_tags.head()\n",
    "\n",
    "imdb_data = pd.read_csv('datasets/imdb_data.csv')\n",
    "imdb_data.head()\n",
    "\n",
    "links = pd.read_csv(\"datasets/links.csv\")\n",
    "links.head()\n",
    "\n",
    "tags = pd.read_csv(\"datasets/tags.csv\")\n",
    "tags.head()\n",
    "\n"
   ]
  }
 ],
 "metadata": {
  "kernelspec": {
   "display_name": "Python 3 (ipykernel)",
   "language": "python",
   "name": "python3"
  },
  "language_info": {
   "codemirror_mode": {
    "name": "ipython",
    "version": 3
   },
   "file_extension": ".py",
   "mimetype": "text/x-python",
   "name": "python",
   "nbconvert_exporter": "python",
   "pygments_lexer": "ipython3",
   "version": "3.7.0"
  }
 },
 "nbformat": 4,
 "nbformat_minor": 5
}
